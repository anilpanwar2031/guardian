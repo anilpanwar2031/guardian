{
 "cells": [
  {
   "cell_type": "code",
   "execution_count": 13,
   "id": "94dbb9d1",
   "metadata": {},
   "outputs": [],
   "source": [
    "master = {'ClaimStatus','EFT_CheckNumber','Notes','PayeeAddress','PayeeCity','PayeeName','PayeeState','PayeeTaxID','PayeeZip','PayerAddress','PayerCity','PayerClaimID','PayerContact','PayerID','PayerName','PayerState','PayerZip','PaymentMethodCode','PPGridViewId','PPTransPayorListID','RecordID','RenderingProvider','RenderingProviderID','SubscriberID','TotalAmount','url'}\n"
   ]
  },
  {
   "cell_type": "code",
   "execution_count": 14,
   "id": "65d0fc71",
   "metadata": {},
   "outputs": [],
   "source": [
    "gmaster = {\n",
    "        \"SubscriberID\": \"\",\n",
    "        \"PatientName\": \"EDMUND GROVER \",\n",
    "        \"Relationship\": \"SON\",\n",
    "        \"ClaimId\": \"36343F13200\",\n",
    "        \"PatientAccount\": \"120262917\",\n",
    "        \"TransactionFee\": \"\",\n",
    "        \"url\": \"\",\n",
    "        \"Notes\": \"AN AETNA DENTAL ACCESS PARTICIPATING DENTIST HAS BEEN UTILIZED 4. The treatment plan does not meet the clinical criteria (which is established based on the patient's age) for coverage of general anesthesia or sedation. Benefits are based on the use of a Preferred Contracted Dentist.\",\n",
    "        \"PayerClaimID\": \"36343F13200\",\n",
    "        \"TotalAmount\": \"$351.20\",\n",
    "        \"ClaimStatus\": \"\",\n",
    "        \"RenderingProvider\": \"DON REES BOREN\",\n",
    "        \"Payer\": \"PO BOX 981572 EL PASO, TX  79998-1572\",\n",
    "        \"PayerName\": \"Guardian\",\n",
    "        \"PayerAddress\": \"PO BOX 981572\",\n",
    "        \"PayerCity\": \"EL PASO\",\n",
    "        \"PayerState\": \"TX\",\n",
    "        \"PayerZip\": \"79998-1572\",\n",
    "        \"Payee\": \"UT BCDO SPECIALTY DENTAL SERVI 1275 E FORT UNION BLVD STE 100 MIDVALE, UT  84047-1890\",\n",
    "        \"PayeeName\": \"UT BCDO SPECIALTY DENTAL SERVI\",\n",
    "        \"PayeeAddress\": \"1275 E FORT UNION BLVD STE 100\",\n",
    "        \"PayeeCity\": \"MIDVALE\",\n",
    "        \"PayeeState\": \"UT\",\n",
    "        \"PayeeZip\": \"84047-1890\",\n",
    "        \"Provider\": \"DON REES BOREN\",\n",
    "        \"EFT_CheckDate\": \"05/12/2023\",\n",
    "        \"EFT_CheckNumber\": \"187857316\",\n",
    "        \"PaidByOtherInsurance\": \"$0.00\",\n",
    "        \"TotalBenefitPaid\": \"$ 241.20\",\n",
    "        \"patientrep\": \"$105.80\",\n",
    "        \"toalbenfitpayable\": \"$241.20\",\n",
    "        \"higherallowable\": \"$318.00\"\n",
    "    }"
   ]
  },
  {
   "cell_type": "code",
   "execution_count": 15,
   "id": "f7921685",
   "metadata": {},
   "outputs": [],
   "source": [
    "gk = set(gmaster.keys())\n"
   ]
  },
  {
   "cell_type": "code",
   "execution_count": 16,
   "id": "3b447393",
   "metadata": {},
   "outputs": [
    {
     "data": {
      "text/plain": [
       "{'PPGridViewId',\n",
       " 'PPTransPayorListID',\n",
       " 'PayeeTaxID',\n",
       " 'PayerContact',\n",
       " 'PayerID',\n",
       " 'PaymentMethodCode',\n",
       " 'RecordID',\n",
       " 'RenderingProviderID'}"
      ]
     },
     "execution_count": 16,
     "metadata": {},
     "output_type": "execute_result"
    },
    {
     "data": {
      "text/plain": [
       "{'PPGridViewId',\n",
       " 'PPTransPayorListID',\n",
       " 'PayeeTaxID',\n",
       " 'PayerContact',\n",
       " 'PayerID',\n",
       " 'PaymentMethodCode',\n",
       " 'RecordID',\n",
       " 'RenderingProviderID'}"
      ]
     },
     "execution_count": 16,
     "metadata": {},
     "output_type": "execute_result"
    }
   ],
   "source": [
    "k = master -gk\n",
    "k"
   ]
  },
  {
   "cell_type": "code",
   "execution_count": 17,
   "id": "95be2e3a",
   "metadata": {},
   "outputs": [],
   "source": [
    "eftpatients = { \"MemberNo\",\"PatientName\",\"PayerClaimId\",\"PayerPaid\",\"PlanType\",\"PPTransPayorListID\",\"ProviderClaimId\",\"RecordID\",\"RenderingProviderFirstName\",\"RenderingProviderID\",\"RenderingProviderLastName\",\"SubscriberID\"             }"
   ]
  },
  {
   "cell_type": "code",
   "execution_count": 18,
   "id": "ac1ceaeb",
   "metadata": {},
   "outputs": [],
   "source": [
    "eobdetails = {\"ActualAllowed\",\"Adjustments\",\"ContractualObligations\",\"Enrollee_ClaimID\",\"OtherAdjustments\",\"PatientResp\",\"PayableAmount\",\"PayerInitiatedReductions\",\"ProcCode\",\"RecordID\",\"RemarkCodes\",\"ServiceDate\",\"SubmittedCharges\",\"PPGridViewId\"}"
   ]
  }
 ],
 "metadata": {
  "kernelspec": {
   "display_name": "Python 3 (ipykernel)",
   "language": "python",
   "name": "python3"
  },
  "language_info": {
   "codemirror_mode": {
    "name": "ipython",
    "version": 3
   },
   "file_extension": ".py",
   "mimetype": "text/x-python",
   "name": "python",
   "nbconvert_exporter": "python",
   "pygments_lexer": "ipython3",
   "version": "3.10.5"
  }
 },
 "nbformat": 4,
 "nbformat_minor": 5
}
