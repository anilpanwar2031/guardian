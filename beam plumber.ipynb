{
 "cells": [
  {
   "cell_type": "code",
   "execution_count": 1,
   "id": "06815937",
   "metadata": {},
   "outputs": [],
   "source": [
    "import pdfplumber\n",
    "\n",
    "file_path =\"SZN67RA4OH.pdf\""
   ]
  },
  {
   "cell_type": "code",
   "execution_count": 2,
   "id": "629e2acd",
   "metadata": {},
   "outputs": [
    {
     "name": "stdout",
     "output_type": "stream",
     "text": [
      "[['Name', 'Relationship', 'Date Of Birth', 'Enrollment\\nEffective Date', 'Waiting Period\\nEnd Date', 'Eligible'], ['STAGE, BRANDEN', 'Subscriber', '05/18', '01/01/2021', '01/01/2021', 'Yes'], ['STAGE, AMBER', 'Spouse', '04/24', '01/01/2021', '01/01/2021', 'Yes'], ['STAGE, MASON', 'Child', '08/16', '01/01/2021', '01/01/2021', 'Yes'], ['STAGE, IVYANNE', 'Child', '10/20', '01/01/2021', '01/01/2021', 'Yes']]\n",
      "[['', 'Individual PPO\\nNetwork', 'Individual Premier\\nNetwork', 'Individual Non Par', 'Individual PPO\\nNetwork Lifetime', 'Individual Premier\\nNetwork Lifetime', 'Individual Non Par\\nLifetime'], ['Regular', '$3,000.00', '$3,000.00', '$3,000.00', '$0.00', '$0.00', '$0.00'], ['Orthodontic', '$0.00', '$0.00', '$0.00', '$2,000.00', '$2,000.00', '$2,000.00'], ['TMJ', '$0.00', '$0.00', '$0.00', '$0.00', '$0.00', '$0.00'], ['Periodontic', 'Shared', 'Shared', 'Shared', '$0.00', '$0.00', '$0.00']]\n",
      "[['', 'Family PPO\\nNetwork', 'Family Premier\\nNetwork', 'Family Non Par', 'Family PPO\\nNetwork Lifetime', 'Family Premier\\nNetwork Lifetime', 'Family Non Par\\nLifetime'], ['Regular', '$0.00', '$0.00', '$0.00', '$0.00', '$0.00', '$0.00'], ['Orthodontic', '$0.00', '$0.00', '$0.00', '$0.00', '$0.00', '$0.00'], ['TMJ', '$0.00', '$0.00', '$0.00', '$0.00', '$0.00', '$0.00'], ['Periodontic', '$0.00', '$0.00', '$0.00', '$0.00', '$0.00', '$0.00']]\n",
      "[['', 'Individual PPO\\nNetwork', 'Individual Premier\\nNetwork', 'Individual Non Par', 'Individual PPO\\nNetwork Lifetime', 'Individual Premier\\nNetwork Lifetime', 'Individual Non Par\\nLifetime'], ['Regular', '$50.00', '$50.00', '$50.00', '$0.00', '$0.00', '$0.00'], ['Orthodontic', 'Shared', 'Shared', 'Shared', '$0.00', '$0.00', '$0.00'], ['TMJ', '$0.00', '$0.00', '$0.00', '$0.00', '$0.00', '$0.00'], ['Periodontic', 'Shared', 'Shared', 'Shared', '$0.00', '$0.00', '$0.00']]\n",
      "[['', 'Family PPO\\nNetwork', 'Family Premier\\nNetwork', 'Family Non Par', 'Family PPO\\nNetwork Lifetime', 'Family Premier\\nNetwork Lifetime', 'Family Non Par\\nLifetime'], ['Regular', '$150.00', '$150.00', '$150.00', '$0.00', '$0.00', '$0.00'], ['Orthodontic', 'Shared', 'Shared', 'Shared', '$0.00', '$0.00', '$0.00'], ['TMJ', '$0.00', '$0.00', '$0.00', '$0.00', '$0.00', '$0.00'], ['Periodontic', 'Shared', 'Shared', 'Shared', '$0.00', '$0.00', '$0.00']]\n",
      "[['Procedure', 'Delta Dental PPO', 'Delta Dental\\nPremier', 'Non Par Dentist', 'Frequency if\\nApplicable', 'Age Limit if\\nApplicable', 'Limitations / Notes\\nif Applicable - See\\nCode List'], ['Periodic Exams', '100%', '100%', '80%', '2 per Calendar\\nYear', '', '1'], ['Full-Mouth X-Rays', '100%', '100%', '80%', '1 every 36\\nMonths from the\\nlast date of\\nservice of the\\nsame treatment', '', '1'], ['Bite-Wing X-Rays', '100%', '100%', '80%', '', '', '1'], ['Cleanings - Adult', '100%', '100%', '80%', '2 per Calendar\\nYear', '14+', '1'], ['Cleanings - Child', '100%', '100%', '80%', '2 per Calendar\\nYear', '0 to 13', '1'], ['Fluoride', '100%', '100%', '80%', '1 per Calendar\\nYear', '0 to 18', '1']]\n",
      "[['Sealants', '80%', '80%', '70%', '1 every 60\\nMonths from the\\nlast date of\\nservice of the\\nsame treatment', '0 to 18', '3'], ['Space Maintainer', '100%', '100%', '80%', '1 every 60\\nMonths from the\\nlast date of\\nservice of the\\nsame treatment', '0 to 15', '1'], ['Amalgam', '80%', '80%', '70%', '1 every 24\\nMonths from the\\nlast date of\\nservice of the\\nsame treatment', '', ''], ['Composite/Resin', '80%', '80%', '70%', '1 every 24\\nMonths from the\\nlast date of\\nservice of the\\nsame treatment', '', '4'], ['Root Canals (submit\\non completion date)', '80%', '80%', '70%', '', '', ''], ['Perio Root Planing', '80%', '80%', '70%', '', '', ''], ['Surgical Perio', '80%', '80%', '70%', '', '', ''], ['Periodontal\\nMaintenance\\n(Following active\\ntherapy. May be\\ncombined with\\nroutine cleaning\\nfrequency.)', '100%', '100%', '80%', '2 per Calendar\\nYear', '', '1'], ['Simple Extractions', '80%', '80%', '70%', '', '', ''], ['Surgical Extractions\\nImpacted Teeth', '80%', '80%', '70%', '', '', ''], ['Crowns (submit on\\nseat date)', '50%', '50%', '40%', '1 every 60\\nMonths from the\\nlast date of\\nservice of the\\nsame treatment', '12+', ''], ['Bridges (submit on\\nseat date) - I', '50%', '50%', '40%', '1 every 60\\nMonths from the\\nlast date of\\nservice of the\\nsame treatment', '16+', '20'], ['Bridges (submit on\\nseat date) - R', '50%', '50%', '40%', '1 every 60\\nMonths from the\\nlast date of\\nservice of the\\nsame treatment', '16+', '20'], ['Partials/Dentures\\n(submit on seat date)\\n- I', '50%', '50%', '40%', '1 every 60\\nMonths from the\\nlast date of\\nservice of the\\nsame treatment', '16+', ''], ['Partials/Dentures\\n(submit on seat date)\\n- R', '50%', '50%', '40%', '1 every 60\\nMonths from the\\nlast date of\\nservice of the\\nsame treatment', '16+', ''], ['Orthodontics', '50%', '50%', '40%', '', '', '13'], ['Non Surgical TMJ', '0%', '0%', '0%', '', '', ''], ['Surgical TMJ', '0%', '0%', '0%', '', '', '']]\n",
      "[['General Anesthesia', '80%', '80%', '70%', '', '', '11'], ['Occlusal Guard By\\nReport', '0%', '0%', '0%', '', '', ''], ['Implants', '50%', '50%', '40%', '1 every 60\\nMonths from the\\nlast date of\\nservice of the\\nsame treatment', '16+', '20'], ['Implant Crowns', '50%', '50%', '40%', '1 every 60\\nMonths from the\\nlast date of\\nservice of the\\nsame treatment', '16+', '20']]\n",
      "[['', 'Individual Annual\\nDeductible Met\\nPPO Network', 'Individual Annual\\nDeductible Met\\nPremier Network', 'Individual Annual\\nDeductible Met\\nNon Par', 'Individual Annual\\nMaximum Met\\nPPO Network', 'Individual Annual\\nMaximum Met\\nPremier Network', 'Individual Annual\\nMaximum Met Non\\nPar'], ['Regular', '$50.00', '$50.00', '$50.00', '$428.60', '$428.60', '$428.60'], ['Orthodontic', '$0.00', '$0.00', '$0.00', '$0.00', '$0.00', '$0.00'], ['TMJ', '$0.00', '$0.00', '$0.00', '$0.00', '$0.00', '$0.00'], ['Periodontic', '$0.00', '$0.00', '$0.00', '$0.00', '$0.00', '$0.00']]\n",
      "[['', 'Individual Lifetime Maximum Met PPO\\nNetwork', 'Individual Lifetime Maximum Met\\nPremier Network', 'Individual Lifetime Maximum Met Non\\nPar'], ['Regular', '$0.00', '$0.00', '$0.00'], ['Orthodontic', '$0.00', '$0.00', '$0.00'], ['TMJ', '$0.00', '$0.00', '$0.00'], ['Periodontic', '$0.00', '$0.00', '$0.00']]\n",
      "[['Date of\\nService', 'Tooth', 'Surface', 'Procedure', 'Description'], ['06/21/2023', 'J', 'MO', 'D2150', 'Amalgam - Two Surfaces, Primary Or Permanent'], ['04/24/2023', 'K', '', 'D2930', 'Prefabricated Stainless Steel Crown - Primary Tooth'], ['04/24/2023', 'L', '', 'D2930', 'Prefabricated Stainless Steel Crown - Primary Tooth'], ['02/13/2023', '00', '', 'D0120', 'Periodic Oral Evaluation - Established Patient'], ['02/13/2023', '00', '', 'D1120', 'Prophylaxis - Child'], ['02/13/2023', '00', '', 'D0272', 'Bitewings - Two Radiographic Images'], ['02/13/2023', '00', '', 'D1206', 'Topical Application Of Fluoride Varnish'], ['02/13/2023', '00', '', 'D0220', 'Intraoral - Periapical First Radiographic Image'], ['09/28/2022', 'T', 'BDO', 'D2160', 'Amalgam - Three Surfaces, Primary Or Permanent'], ['09/28/2022', '30', 'O', 'D2140', 'Amalgam - One Surface, Primary Or Permanent'], ['09/14/2022', '3', 'DO', 'D2150', 'Amalgam - Two Surfaces, Primary Or Permanent'], ['08/08/2022', '00', '', 'D0272', 'Bitewings - Two Radiographic Images'], ['08/08/2022', '00', '', 'D1120', 'Prophylaxis - Child'], ['08/08/2022', '00', '', 'D0120', 'Periodic Oral Evaluation - Established Patient'], ['03/21/2022', 'S', '', 'D3220', 'Therapeutic Pulpotomy'], ['03/21/2022', 'S', '', 'D2930', 'Prefabricated Stainless Steel Crown - Primary Tooth'], ['02/09/2022', '00', '', 'D0120', 'Periodic Oral Evaluation - Established Patient'], ['02/09/2022', '00', '', 'D1120', 'Prophylaxis - Child'], ['02/09/2022', '00', '', 'D0272', 'Bitewings - Two Radiographic Images'], ['02/09/2022', '00', '', 'D1206', 'Topical Application Of Fluoride Varnish'], ['02/09/2022', '00', '', 'D0220', 'Intraoral - Periapical First Radiographic Image'], ['08/17/2021', 'I', 'DO', 'D2150', 'Amalgam - Two Surfaces, Primary Or Permanent'], ['08/17/2021', 'K', 'BO', 'D2150', 'Amalgam - Two Surfaces, Primary Or Permanent'], ['07/14/2021', '00', '', 'D0120', 'Periodic Oral Evaluation - Established Patient'], ['07/14/2021', '00', '', 'D1120', 'Prophylaxis - Child'], ['07/14/2021', '00', '', 'D0272', 'Bitewings - Two Radiographic Images'], ['07/14/2021', '00', '', 'D1206', 'Topical Application Of Fluoride Varnish'], ['12/03/2018', 'S', 'DO', 'D2150', 'Amalgam - Two Surfaces, Primary Or Permanent'], ['10/23/2018', '00', '', 'D0120', 'Periodic Oral Evaluation - Established Patient'], ['10/23/2018', '00', '', 'D1120', 'Prophylaxis - Child'], ['10/23/2018', '00', '', 'D0272', 'Bitewings - Two Radiographic Images'], ['10/23/2018', '00', '', 'D1206', 'Topical Application Of Fluoride Varnish']]\n"
     ]
    }
   ],
   "source": [
    "with pdfplumber.open(file_path) as pdf:\n",
    "  \n",
    "    for page in pdf.pages:\n",
    "        tables = page.extract_tables()\n",
    "        t = 1\n",
    "        for table in tables:\n",
    "            print(table)\n"
   ]
  },
  {
   "cell_type": "code",
   "execution_count": null,
   "id": "507d2500",
   "metadata": {},
   "outputs": [],
   "source": []
  }
 ],
 "metadata": {
  "kernelspec": {
   "display_name": "Python 3 (ipykernel)",
   "language": "python",
   "name": "python3"
  },
  "language_info": {
   "codemirror_mode": {
    "name": "ipython",
    "version": 3
   },
   "file_extension": ".py",
   "mimetype": "text/x-python",
   "name": "python",
   "nbconvert_exporter": "python",
   "pygments_lexer": "ipython3",
   "version": "3.10.5"
  }
 },
 "nbformat": 4,
 "nbformat_minor": 5
}
