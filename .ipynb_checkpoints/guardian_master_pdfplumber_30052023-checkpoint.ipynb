{
 "cells": [
  {
   "cell_type": "code",
   "execution_count": 1,
   "id": "bcd05a07",
   "metadata": {},
   "outputs": [],
   "source": [
    "import pdfplumber\n",
    "\n",
    "file_path = 'C:\\\\guardian\\\\SD%20Payor%20Scraping\\\\guardian.pdf'      "
   ]
  },
  {
   "cell_type": "code",
   "execution_count": 2,
   "id": "78c24db8",
   "metadata": {},
   "outputs": [
    {
     "name": "stdout",
     "output_type": "stream",
     "text": [
      "\n",
      "\n",
      "\n",
      "\n"
     ]
    }
   ],
   "source": [
    "with pdfplumber.open(file_path) as pdf:\n",
    "  \n",
    "    for page in pdf.pages:\n",
    "        tables = page.extract_tables()\n",
    "        t = 1\n",
    "        for table in tables:\n",
    "            print(\"\\n\")\n",
    "#             print(\"Table\", t)\n",
    "            t += 1\n",
    "            r = 1\n",
    "#             print(len(table))\n",
    "#             print(table[2])    \n",
    "            for row in table[:-1]:\n",
    "#                 print(\"Row\", r)\n",
    "#                 print(row)\n",
    "                \n",
    "                r +=1\n",
    "                if 'Claim Number' in row[0]:\n",
    "                    text = row[0]\n",
    "                    \n",
    "                if 'Line' in row[0]:\n",
    "                    header = row\n",
    "#                     print(\"Header\", header)\n",
    "                "
   ]
  },
  {
   "cell_type": "code",
   "execution_count": 3,
   "id": "3b02bfb7",
   "metadata": {},
   "outputs": [
    {
     "data": {
      "text/plain": [
       "'Claim Number: 36347F13200 Patient Account No.:120320346 Plan Number:00581682\\nPatient Name: ANDREW CASEY Employee Name: ANDREW CASEY Relationship: SON\\nPlanholder: GOENGINEER, INC.'"
      ]
     },
     "execution_count": 3,
     "metadata": {},
     "output_type": "execute_result"
    }
   ],
   "source": [
    "text"
   ]
  },
  {
   "cell_type": "code",
   "execution_count": 4,
   "id": "1a1f7b9d",
   "metadata": {},
   "outputs": [],
   "source": [
    "# text = 'Claim Number: 18472E05500 Patient Account No.:15320 Plan Number:00580287 Patient Name: HARPER L NEWTON Employee Name: MICHELLE N BERMAN Relationship: DAUGHTER Planholder: GDH CONSULTING, INC.'"
   ]
  },
  {
   "cell_type": "code",
   "execution_count": 5,
   "id": "709887c0",
   "metadata": {},
   "outputs": [
    {
     "name": "stdout",
     "output_type": "stream",
     "text": [
      "36347F13200\n",
      "120320346\n",
      "00581682\n",
      "Patient\n",
      "ANDREW CASEY \n",
      "ANDREW CASEY \n",
      "SON\n",
      "\n",
      "GOENGINEER, INC.\n"
     ]
    }
   ],
   "source": [
    "claimnumber = text.split('Claim Number: ')[1].split(' ')[0]\n",
    "patientaccountno = text.split('Patient Account No.:')[1].split(' ')[0]\n",
    "plannumber = text.split('Plan Number:')[1].split(' ')[0]\n",
    "patientname = text.split('Patient Name: ')[1].split('Employee Name')[0]\n",
    "employeename = text.split('Employee Name: ')[1].split('Relationship')[0]\n",
    "realtionship = text.split('Relationship: ')[1].split('Planholder:')[0]\n",
    "planholder = text.split('Planholder: ')[1]\n",
    "print(claimnumber)\n",
    "print(patientaccountno)\n",
    "print(plannumber)\n",
    "print(patientname)\n",
    "print(employeename)\n",
    "print(realtionship)\n",
    "print(planholder)"
   ]
  },
  {
   "cell_type": "code",
   "execution_count": 6,
   "id": "1af8fce0",
   "metadata": {},
   "outputs": [],
   "source": [
    "header = ['Line\\nNo.', 'Submitted\\nADA Codes/Description', 'Alt\\nCode', 'Tooth\\nNo.', 'Date of\\nService', 'Submitted\\nCharge', 'Considered\\nCharge', 'Covered\\nCharge', 'Deductible\\nAmount', 'Coverage\\nPercent', 'Benefit\\nAmount']"
   ]
  },
  {
   "cell_type": "code",
   "execution_count": 7,
   "id": "dd2a8beb",
   "metadata": {},
   "outputs": [
    {
     "data": {
      "text/plain": [
       "['LineNo',\n",
       " 'SubmittedADACodesDescription',\n",
       " 'AltCode',\n",
       " 'ToothNo',\n",
       " 'DateOfService',\n",
       " 'SubmittedCharge',\n",
       " 'ConsideredCharge',\n",
       " 'CoveredCharge',\n",
       " 'DeductibleAmount',\n",
       " 'CoveragePercent',\n",
       " 'BenefitAmount']"
      ]
     },
     "execution_count": 7,
     "metadata": {},
     "output_type": "execute_result"
    }
   ],
   "source": [
    "head = []\n",
    "for h in header:\n",
    "    if 'Line' in h:\n",
    "        head.append(\"LineNo\")\n",
    "    if 'Submitted\\nADA' in h:\n",
    "        head.append(\"SubmittedADACodesDescription\")\n",
    "    if 'Alt' in h:\n",
    "        head.append(\"AltCode\")\n",
    "    if 'Tooth' in h:\n",
    "        head.append(\"ToothNo\")\n",
    "    if 'Date of' in h:\n",
    "        head.append(\"DateOfService\")\n",
    "    if 'Submitted\\nCharge' in h:\n",
    "        head.append(\"SubmittedCharge\")\n",
    "    if 'Considered' in h:\n",
    "        head.append(\"ConsideredCharge\")\n",
    "    if 'Covered\\nCharge' in h:\n",
    "        head.append(\"CoveredCharge\")\n",
    "    if 'Deductible' in h:\n",
    "        head.append(\"DeductibleAmount\")\n",
    "    if 'Coverage\\nPercent' in h:\n",
    "        head.append(\"CoveragePercent\")\n",
    "    if 'Benefit\\nAmount' in h:\n",
    "        head.append(\"BenefitAmount\")\n",
    "head      \n",
    "        \n",
    "        "
   ]
  },
  {
   "cell_type": "code",
   "execution_count": 8,
   "id": "84b31a9c",
   "metadata": {},
   "outputs": [
    {
     "name": "stderr",
     "output_type": "stream",
     "text": [
      "Got stderr: Jun 04, 2023 2:41:19 PM org.apache.pdfbox.pdmodel.font.PDSimpleFont readEncoding\r\n",
      "WARNING: Unknown encoding: BuiltIn\r\n",
      "Jun 04, 2023 2:41:19 PM org.apache.pdfbox.pdmodel.font.PDSimpleFont readEncoding\r\n",
      "WARNING: Unknown encoding: BuiltIn\r\n",
      "Jun 04, 2023 2:41:19 PM org.apache.pdfbox.pdmodel.font.PDSimpleFont readEncoding\r\n",
      "WARNING: Unknown encoding: BuiltIn\r\n",
      "Jun 04, 2023 2:41:19 PM org.apache.pdfbox.pdmodel.font.PDSimpleFont readEncoding\r\n",
      "WARNING: Unknown encoding: BuiltIn\r\n",
      "Jun 04, 2023 2:41:19 PM org.apache.pdfbox.pdmodel.font.PDSimpleFont readEncoding\r\n",
      "WARNING: Unknown encoding: BuiltIn\r\n",
      "Jun 04, 2023 2:41:19 PM org.apache.pdfbox.pdmodel.font.PDSimpleFont readEncoding\r\n",
      "WARNING: Unknown encoding: BuiltIn\r\n",
      "Jun 04, 2023 2:41:19 PM org.apache.pdfbox.pdmodel.font.PDSimpleFont readEncoding\r\n",
      "WARNING: Unknown encoding: BuiltIn\r\n",
      "\n"
     ]
    }
   ],
   "source": [
    "import tabula\n",
    "import pandas as pd\n",
    "tabula_dfs = tabula.read_pdf(file_path,guess=False,pages=1,stream=True,encoding=\"utf-8\",area=(141, 43, 176, 217),multiple_tables=True)"
   ]
  },
  {
   "cell_type": "code",
   "execution_count": 9,
   "id": "489d20a8",
   "metadata": {},
   "outputs": [
    {
     "data": {
      "text/html": [
       "<div>\n",
       "<style scoped>\n",
       "    .dataframe tbody tr th:only-of-type {\n",
       "        vertical-align: middle;\n",
       "    }\n",
       "\n",
       "    .dataframe tbody tr th {\n",
       "        vertical-align: top;\n",
       "    }\n",
       "\n",
       "    .dataframe thead th {\n",
       "        text-align: right;\n",
       "    }\n",
       "</style>\n",
       "<table border=\"1\" class=\"dataframe\">\n",
       "  <thead>\n",
       "    <tr style=\"text-align: right;\">\n",
       "      <th></th>\n",
       "      <th>UT BCDO SPECIALTY DENTAL SERVI</th>\n",
       "    </tr>\n",
       "  </thead>\n",
       "  <tbody>\n",
       "    <tr>\n",
       "      <th>0</th>\n",
       "      <td>1275 E FORT UNION BLVD STE 100</td>\n",
       "    </tr>\n",
       "    <tr>\n",
       "      <th>1</th>\n",
       "      <td>MIDVALE, UT  84047-1890</td>\n",
       "    </tr>\n",
       "  </tbody>\n",
       "</table>\n",
       "</div>"
      ],
      "text/plain": [
       "   UT BCDO SPECIALTY DENTAL SERVI\n",
       "0  1275 E FORT UNION BLVD STE 100\n",
       "1         MIDVALE, UT  84047-1890"
      ]
     },
     "execution_count": 9,
     "metadata": {},
     "output_type": "execute_result"
    }
   ],
   "source": [
    "tabula_dfs[0]"
   ]
  },
  {
   "cell_type": "code",
   "execution_count": 10,
   "id": "8cb5fec3",
   "metadata": {},
   "outputs": [],
   "source": [
    "def process_tabula_address(tabula_df: pd.DataFrame) -> str:\n",
    "    col_name: str = tabula_df.columns[0]\n",
    "    item: str = f\"{col_name} {' '.join(tabula_df[col_name].to_list())}\"\n",
    "    return item"
   ]
  },
  {
   "cell_type": "code",
   "execution_count": 11,
   "id": "ad0967e8",
   "metadata": {},
   "outputs": [],
   "source": [
    "payee_address = process_tabula_address(tabula_dfs[0])"
   ]
  },
  {
   "cell_type": "code",
   "execution_count": 12,
   "id": "db677a37",
   "metadata": {},
   "outputs": [
    {
     "name": "stderr",
     "output_type": "stream",
     "text": [
      "C:\\Users\\pytho\\AppData\\Roaming\\Python\\Python310\\site-packages\\requests\\__init__.py:102: RequestsDependencyWarning: urllib3 (1.26.13) or chardet (5.1.0)/charset_normalizer (2.0.12) doesn't match a supported version!\n",
      "  warnings.warn(\"urllib3 ({}) or chardet ({})/charset_normalizer ({}) doesn't match a supported \"\n"
     ]
    }
   ],
   "source": [
    "from Utilities.pdf_utils  import *\n",
    "def extract_address_details(address_text):\n",
    "    try:\n",
    "        address_list = usaddress.tag(address_text)[0]\n",
    "    except usaddress.RepeatedLabelError as e:\n",
    "            parsed_address = e.parsed_string\n",
    "            print('parsed address is for payor is----------', parsed_address )\n",
    "            address_list = get_address_list_when_exception(parsed_address)\n",
    "\n",
    "\n",
    "    return {\n",
    "        'Item': address_text,\n",
    "        'ItemName': address_list.get('Recipient', ''),\n",
    "        'AddressElements': get_address(address_text, address_list),\n",
    "        'PlaceName': address_list.get('PlaceName', ''),\n",
    "        'StateName': address_list.get('StateName', ''),\n",
    "        'ZipCode': address_list.get('ZipCode', '')\n",
    "    }"
   ]
  },
  {
   "cell_type": "code",
   "execution_count": 13,
   "id": "23d83f85",
   "metadata": {},
   "outputs": [],
   "source": [
    "payee_add_details = extract_address_details(payee_address)"
   ]
  },
  {
   "cell_type": "code",
   "execution_count": 14,
   "id": "7179a627",
   "metadata": {},
   "outputs": [
    {
     "data": {
      "text/plain": [
       "{'Item': 'UT BCDO SPECIALTY DENTAL SERVI 1275 E FORT UNION BLVD STE 100 MIDVALE, UT  84047-1890',\n",
       " 'ItemName': 'UT BCDO SPECIALTY DENTAL SERVI',\n",
       " 'AddressElements': '1275 E FORT UNION BLVD STE 100',\n",
       " 'PlaceName': 'MIDVALE',\n",
       " 'StateName': 'UT',\n",
       " 'ZipCode': '84047-1890'}"
      ]
     },
     "execution_count": 14,
     "metadata": {},
     "output_type": "execute_result"
    }
   ],
   "source": [
    "payee_add_details"
   ]
  },
  {
   "cell_type": "code",
   "execution_count": 15,
   "id": "ff349be3",
   "metadata": {},
   "outputs": [
    {
     "name": "stderr",
     "output_type": "stream",
     "text": [
      "Got stderr: Jun 04, 2023 2:41:20 PM org.apache.pdfbox.pdmodel.font.PDSimpleFont readEncoding\r\n",
      "WARNING: Unknown encoding: BuiltIn\r\n",
      "Jun 04, 2023 2:41:20 PM org.apache.pdfbox.pdmodel.font.PDSimpleFont readEncoding\r\n",
      "WARNING: Unknown encoding: BuiltIn\r\n",
      "Jun 04, 2023 2:41:20 PM org.apache.pdfbox.pdmodel.font.PDSimpleFont readEncoding\r\n",
      "WARNING: Unknown encoding: BuiltIn\r\n",
      "Jun 04, 2023 2:41:20 PM org.apache.pdfbox.pdmodel.font.PDSimpleFont readEncoding\r\n",
      "WARNING: Unknown encoding: BuiltIn\r\n",
      "Jun 04, 2023 2:41:20 PM org.apache.pdfbox.pdmodel.font.PDSimpleFont readEncoding\r\n",
      "WARNING: Unknown encoding: BuiltIn\r\n",
      "Jun 04, 2023 2:41:20 PM org.apache.pdfbox.pdmodel.font.PDSimpleFont readEncoding\r\n",
      "WARNING: Unknown encoding: BuiltIn\r\n",
      "Jun 04, 2023 2:41:20 PM org.apache.pdfbox.pdmodel.font.PDSimpleFont readEncoding\r\n",
      "WARNING: Unknown encoding: BuiltIn\r\n",
      "\n"
     ]
    }
   ],
   "source": [
    "tabula_dfs = tabula.read_pdf(file_path,guess=False,pages=1,stream=True,encoding=\"utf-8\",area=(25, 90, 53, 213),multiple_tables=True)"
   ]
  },
  {
   "cell_type": "code",
   "execution_count": 16,
   "id": "b60966f8",
   "metadata": {},
   "outputs": [],
   "source": [
    "payer_address = process_tabula_address(tabula_dfs[0])"
   ]
  },
  {
   "cell_type": "code",
   "execution_count": 17,
   "id": "40a0789b",
   "metadata": {},
   "outputs": [
    {
     "data": {
      "text/plain": [
       "'PO BOX 981572 EL PASO, TX  79998-1572'"
      ]
     },
     "execution_count": 17,
     "metadata": {},
     "output_type": "execute_result"
    }
   ],
   "source": [
    "payer_address"
   ]
  },
  {
   "cell_type": "code",
   "execution_count": 18,
   "id": "700f2298",
   "metadata": {},
   "outputs": [],
   "source": [
    "payer_add_details = extract_address_details(payer_address)"
   ]
  },
  {
   "cell_type": "code",
   "execution_count": 19,
   "id": "58c46e85",
   "metadata": {},
   "outputs": [
    {
     "data": {
      "text/plain": [
       "{'Item': 'PO BOX 981572 EL PASO, TX  79998-1572',\n",
       " 'ItemName': '',\n",
       " 'AddressElements': 'PO BOX 981572',\n",
       " 'PlaceName': 'EL PASO',\n",
       " 'StateName': 'TX',\n",
       " 'ZipCode': '79998-1572'}"
      ]
     },
     "execution_count": 19,
     "metadata": {},
     "output_type": "execute_result"
    }
   ],
   "source": [
    "payer_add_details"
   ]
  },
  {
   "cell_type": "code",
   "execution_count": 20,
   "id": "37893c50",
   "metadata": {},
   "outputs": [
    {
     "name": "stderr",
     "output_type": "stream",
     "text": [
      "Got stderr: Jun 04, 2023 2:41:21 PM org.apache.pdfbox.pdmodel.font.PDSimpleFont readEncoding\r\n",
      "WARNING: Unknown encoding: BuiltIn\r\n",
      "Jun 04, 2023 2:41:21 PM org.apache.pdfbox.pdmodel.font.PDSimpleFont readEncoding\r\n",
      "WARNING: Unknown encoding: BuiltIn\r\n",
      "Jun 04, 2023 2:41:21 PM org.apache.pdfbox.pdmodel.font.PDSimpleFont readEncoding\r\n",
      "WARNING: Unknown encoding: BuiltIn\r\n",
      "Jun 04, 2023 2:41:21 PM org.apache.pdfbox.pdmodel.font.PDSimpleFont readEncoding\r\n",
      "WARNING: Unknown encoding: BuiltIn\r\n",
      "Jun 04, 2023 2:41:21 PM org.apache.pdfbox.pdmodel.font.PDSimpleFont readEncoding\r\n",
      "WARNING: Unknown encoding: BuiltIn\r\n",
      "Jun 04, 2023 2:41:21 PM org.apache.pdfbox.pdmodel.font.PDSimpleFont readEncoding\r\n",
      "WARNING: Unknown encoding: BuiltIn\r\n",
      "Jun 04, 2023 2:41:21 PM org.apache.pdfbox.pdmodel.font.PDSimpleFont readEncoding\r\n",
      "WARNING: Unknown encoding: BuiltIn\r\n",
      "\n"
     ]
    }
   ],
   "source": [
    "other_info = tabula.read_pdf(file_path,guess=False,pages=1,stream=True,encoding=\"utf-8\",area=(97, 288, 152, 570),multiple_tables=True)"
   ]
  },
  {
   "cell_type": "code",
   "execution_count": 21,
   "id": "6572556e",
   "metadata": {},
   "outputs": [],
   "source": [
    "df = other_info[0]"
   ]
  },
  {
   "cell_type": "code",
   "execution_count": 22,
   "id": "9d89901a",
   "metadata": {},
   "outputs": [],
   "source": [
    "df = df.T.reset_index()\n",
    "df.columns = df.iloc[0]\n",
    "df = df[1:].reset_index(drop=True)"
   ]
  },
  {
   "cell_type": "code",
   "execution_count": 23,
   "id": "937b2347",
   "metadata": {},
   "outputs": [],
   "source": [
    "dit = df.to_dict(orient='records')"
   ]
  },
  {
   "cell_type": "code",
   "execution_count": 24,
   "id": "8b29c16c",
   "metadata": {},
   "outputs": [],
   "source": [
    "dit = dit[0]"
   ]
  },
  {
   "cell_type": "code",
   "execution_count": 25,
   "id": "7dff41ac",
   "metadata": {},
   "outputs": [
    {
     "data": {
      "text/plain": [
       "{'Provider:': 'DON REES BOREN',\n",
       " 'Date:': '05/12/2023',\n",
       " 'Payee:': 'UT BCDO SPECIALTY DENTAL SER',\n",
       " 'Check No.:': '187857316',\n",
       " 'Payment Amount:': '$351.20'}"
      ]
     },
     "execution_count": 25,
     "metadata": {},
     "output_type": "execute_result"
    }
   ],
   "source": [
    "dit"
   ]
  },
  {
   "cell_type": "code",
   "execution_count": 26,
   "id": "bf913e1a",
   "metadata": {},
   "outputs": [
    {
     "name": "stderr",
     "output_type": "stream",
     "text": [
      "C:\\Users\\pytho\\AppData\\Roaming\\Python\\Python310\\site-packages\\PyPDF2\\_cmap.py:142: PdfReadWarning: Advanced encoding /BuiltIn not implemented yet\n",
      "  warnings.warn(\n"
     ]
    }
   ],
   "source": [
    "from PyPDF2 import PdfReader\n",
    "texts = ' '\n",
    "with open(file_path, 'rb') as file:\n",
    "    # Create a PdfReader object\n",
    "    pdf = PdfReader(file)\n",
    "\n",
    "    # Extract text from each page\n",
    "    for page in pdf.pages:\n",
    "        text = page.extract_text()\n",
    "        texts = texts + text + ' '\n",
    " "
   ]
  },
  {
   "cell_type": "code",
   "execution_count": 27,
   "id": "d0b124b8",
   "metadata": {},
   "outputs": [
    {
     "data": {
      "text/plain": [
       "\" If you have any\\nquestions contact:(800) 541-7846\\nWWW.GUARDIANANYTIME.COM\\nProvider: DON REES BOREN\\nDate: 05/12/2023\\nPROVIDER EXPLANATION OF BENEFITS - THIS IS NOT A BILL\\nImportant!  Please examine this statement for accuracy.  Save this statement for tax purposes.GROUP PLAN ADMINISTRATORS\\nPayee:\\nCheck No.:UT BCDO SPECIALTY DENTAL SER\\n187857316\\nPayment Amount: $351.20\\nExpedite cash flow with e-payments. Sign up today!\\nGuardian has contracted with Change Healthcare, a leading provider of \\nrevenue and payment cycle solutions, to deliver Electronic Funds Transfer \\n(EFT) services! Sign-up today by going to www.changehealthcare.com/support\\n/customer-resources/enrollment-services  for more information. Enrollment for \\nthis service is offered to you at no additional cost and is available online or by \\ncalling 1.866.777.0713 and selecting Option 1.\\nSubmitted\\nADA Codes/DescriptionTooth\\nNo.Date of\\nServiceSubmitted\\nChargeCoverage\\nPercentAlt\\nCodeConsidered\\nChargeCovered\\nChargeDeductible\\nAmountBenefit\\nAmountLine \\nNo.Claim Number:\\nPatient Name:36343F13200\\nEDMUND GROVER\\nVARO MONEY, INC.Patient Account No.:\\nEmployee Name:120262917\\nGEOFFREY GROVERPlan Number:\\nRelationship: SON00558774\\nPlanholder:\\n1 D2392/Pst Composite2 100.00 100.00 05/09/23 50.00 45.00 152.00 90% T\\n2 D7140/Extraction 69.00 69.00 05/09/23 62.10 119.00 90% S\\n3 D1510/Space Maintain 149.00 149.00 05/09/23 134.10 228.00 90% LR\\n4 D9230/Analgesia/N20 0.00 29.00 05/09/23 0.00 30.00 90% FM\\n241.20 529.00 347.00 318.00 50.00\\n$241.20\\nPAID BY OTHER INSURANCE..... $0.00\\nADJUSTMENTS............................... $0.00\\nTOTAL BENEFIT PAID.................. $ 241.20\\nPATIENT'S RESPONSIBILITY..... $105.80TOTALS\\nTOTAL BENEFIT PAYABLE.........BENEFIT SUMMARY\\n$318.00 HIGHER ALLOWABLE.................. 26.80\\nRemarks for claim # 36343F13200:\\nAN AETNA DENTAL ACCESS PARTICIPATING DENTIST HAS BEEN UTILIZED\\n4.  The treatment plan does not meet the clinical criteria (which is established based on the patient's\\nage) for coverage of general anesthesia or sedation.\\nBenefits are based on the use of a Preferred Contracted Dentist.\\n10 Hudson Yards\\n51-44\\n119CHECK NO: 187857316\\nPAY Three Hundred Fifty One & 20/100 Dollars****$351.20AMOUNT\\nTO THE\\nORDER OFUT BCDO SPECIALTY DENTAL SERVI\\nBANK OF AMERICA\\n150 WINDSOR STREET, HARTFORD, CT 06120CHECK DATE: 05/15/23\\nVoid unless presented \\nwithin 180 daysNew York, NY 10001\\nADDTFDTATTFDFFAAATDTAADAFTTTTFTDAFAFAADFFFDDFDDFDFT DAFTTFFAAFATAD113 7.0940 AB 2.632ALL FOR ADC 840\\nMIDVALE, UT  84047-18903 UT BCDO SPECIALTY DENTAL SERVI\\n1275 E FORT UNION BLVD STE 100\\nEL PASO, TX  79998-1572PO BOX 981572\\nForwarding Service Requested\\nC63224A544009110AC613758781CP627402800G\\n    \\nENV 113           9 OF 34 F P627402800G191410         If you have any\\nquestions contact:(800) 541-7846\\nWWW.GUARDIANANYTIME.COM\\nProvider:\\nDate:DON REES BOREN\\n05/12/2023EL PASO TX 79998-1572PO BOX 981572\\nPayee:\\nCheck No.:\\nPayment Amount:UT BCDO SPECIALTY DENTAL SER\\n187857316\\n$351.20\\nSubmitted\\nADA Codes/DescriptionTooth\\nNo.Date of\\nServiceSubmitted\\nChargeCoverage\\nPercentAlt\\nCodeConsidered\\nChargeCovered\\nChargeDeductible\\nAmountBenefit\\nAmountLine \\nNo.Claim Number:\\nPatient Name:36347F13200\\nANDREW CASEY\\nGOENGINEER, INC.Patient Account No.:\\nEmployee Name:120320346\\nANDREW CASEYPlan Number:\\nRelationship: SON00581682\\nPlanholder:\\n1 D0120/Periodic Eval 27.00 27.00 05/10/23 27.00 39.00 100% FM\\n2 D0240/Occlusal Image 14.00 14.00 05/10/23 14.00 27.00 100% FM\\n3 D0240/Occlusal Image 14.00 14.00 05/10/23 14.00 27.00 100% FM\\n4 D1120/Child Cleaning 39.00 39.00 05/10/23 39.00 52.00 100% FM\\n5 D1206/Fluoride Varn 16.00 16.00 05/10/23 16.00 36.00 100% FM\\n6 D0274/Bitewing - 4 0.00 30.00 05/10/23 0.00 52.00 100% FM\\n110.00 233.00 140.00 110.00\\n$110.00\\nPAID BY OTHER INSURANCE..... $0.00\\nADJUSTMENTS............................... $0.00\\nTOTAL BENEFIT PAID.................. $ 110.00\\nPATIENT'S RESPONSIBILITY..... $30.00TOTALS\\nTOTAL BENEFIT PAYABLE.........BENEFIT SUMMARY\\n$110.00 HIGHER ALLOWABLE.................. 0.00\\nRemarks for claim # 36347F13200:\\nAN AETNA DENTAL ACCESS PARTICIPATING DENTIST HAS BEEN UTILIZED\\n6.  The dental plan covers bitewing radiographic images only once in any 12 consecutive month period,\\nup to a maximum of four films or a set of 7-8 vertical films, in one visit.\\nBenefits are based on the use of a Preferred Contracted Dentist.\\nYou have used     $0.00 of your personal Maximum Rollover Account.   $700.00 remains in your account\\nComments:\\nCurrent Dental Terminology  © 2021 American Dental Association.  All rights reserved.\\nLog on to www.GuardianAnytime.com  for instant access to clinical policy guidelines and benefits information for Guardian members. Verify eligibility, view\\nbenefits, check claim status and more!P627402800G\\n    \\nENV 113           10 OF 34 F P627402800G191410         \""
      ]
     },
     "execution_count": 27,
     "metadata": {},
     "output_type": "execute_result"
    }
   ],
   "source": [
    "texts"
   ]
  },
  {
   "cell_type": "code",
   "execution_count": 28,
   "id": "c6b8bc88",
   "metadata": {},
   "outputs": [],
   "source": [
    "# claimnumber = '18472E05500'\n",
    "claimnumber = '36347F13200'\n",
    "remarks = ''\n",
    "remarks = texts.split(f\"Remarks for claim # {claimnumber}:\")[1]\n",
    "\n",
    "if '10 Hudson' in  remarks:\n",
    "    remarks = remarks.split('10 Hudson')[0]\n",
    "else:\n",
    "    remarks = remarks.split('Comments:')[0]"
   ]
  },
  {
   "cell_type": "code",
   "execution_count": 29,
   "id": "455b1e47",
   "metadata": {},
   "outputs": [
    {
     "data": {
      "text/plain": [
       "'AN AETNA DENTAL ACCESS PARTICIPATING DENTIST HAS BEEN UTILIZED 6.  The dental plan covers bitewing radiographic images only once in any 12 consecutive month period, up to a maximum of four films or a set of 7-8 vertical films, in one visit. Benefits are based on the use of a Preferred Contracted Dentist. You have used     $0.00 of your personal Maximum Rollover Account.   $700.00 remains in your account'"
      ]
     },
     "execution_count": 29,
     "metadata": {},
     "output_type": "execute_result"
    }
   ],
   "source": [
    "remarks.replace('\\n', ' ').strip()"
   ]
  },
  {
   "cell_type": "code",
   "execution_count": 30,
   "id": "13d47fdc",
   "metadata": {},
   "outputs": [
    {
     "data": {
      "text/plain": [
       "\" # 36343F13200:\\nAN AETNA DENTAL ACCESS PARTICIPATING DENTIST HAS BEEN UTILIZED\\n4.  The treatment plan does not meet the clinical criteria (which is established based on the patient's\\nage) for coverage of general anesthesia or sedation.\\nBenefits are based on the use of a Preferred Contracted Dentist.\\n10 Hudson Yards\\n51-44\\n119CHECK NO: 187857316\\nPAY Three Hundred Fifty One & 20/100 Dollars****$351.20AMOUNT\\nTO THE\\nORDER OFUT BCDO SPECIALTY DENTAL SERVI\\nBANK OF AMERICA\\n150 WINDSOR STREET, HARTFORD, CT 06120CHECK DATE: 05/15/23\\nVoid unless presented \\nwithin 180 daysNew York, NY 10001\\nADDTFDTATTFDFFAAATDTAADAFTTTTFTDAFAFAADFFFDDFDDFDFT DAFTTFFAAFATAD113 7.0940 AB 2.632ALL FOR ADC 840\\nMIDVALE, UT  84047-18903 UT BCDO SPECIALTY DENTAL SERVI\\n1275 E FORT UNION BLVD STE 100\\nEL PASO, TX  79998-1572PO BOX 981572\\nForwarding Service Requested\\nC63224A544009110AC613758781CP627402800G\\n    \\nENV 113           9 OF 34 F P627402800G191410         If you have any\\nquestions contact:(800) 541-7846\\nWWW.GUARDIANANYTIME.COM\\nProvider:\\nDate:DON REES BOREN\\n05/12/2023EL PASO TX 79998-1572PO BOX 981572\\nPayee:\\nCheck No.:\\nPayment Amount:UT BCDO SPECIALTY DENTAL SER\\n187857316\\n$351.20\\nSubmitted\\nADA Codes/DescriptionTooth\\nNo.Date of\\nServiceSubmitted\\nChargeCoverage\\nPercentAlt\\nCodeConsidered\\nChargeCovered\\nChargeDeductible\\nAmountBenefit\\nAmountLine \\nNo.Claim Number:\\nPatient Name:36347F13200\\nANDREW CASEY\\nGOENGINEER, INC.Patient Account No.:\\nEmployee Name:120320346\\nANDREW CASEYPlan Number:\\nRelationship: SON00581682\\nPlanholder:\\n1 D0120/Periodic Eval 27.00 27.00 05/10/23 27.00 39.00 100% FM\\n2 D0240/Occlusal Image 14.00 14.00 05/10/23 14.00 27.00 100% FM\\n3 D0240/Occlusal Image 14.00 14.00 05/10/23 14.00 27.00 100% FM\\n4 D1120/Child Cleaning 39.00 39.00 05/10/23 39.00 52.00 100% FM\\n5 D1206/Fluoride Varn 16.00 16.00 05/10/23 16.00 36.00 100% FM\\n6 D0274/Bitewing - 4 0.00 30.00 05/10/23 0.00 52.00 100% FM\\n110.00 233.00 140.00 110.00\\n$110.00\\nPAID BY OTHER INSURANCE..... $0.00\\nADJUSTMENTS............................... $0.00\\nTOTAL BENEFIT PAID.................. $ 110.00\\nPATIENT'S RESPONSIBILITY..... $30.00TOTALS\\nTOTAL BENEFIT PAYABLE.........BENEFIT SUMMARY\\n$110.00 HIGHER ALLOWABLE.................. 0.00\\n\""
      ]
     },
     "execution_count": 30,
     "metadata": {},
     "output_type": "execute_result"
    }
   ],
   "source": [
    "benefit = texts.split(f\"Remarks for claim # {claimnumber}:\")[0]\n",
    "if 'Remarks for claim' in benefit:\n",
    "    benefit = benefit.split('Remarks for claim')[1]\n",
    "benefit"
   ]
  },
  {
   "cell_type": "code",
   "execution_count": 31,
   "id": "e53ab8c5",
   "metadata": {},
   "outputs": [
    {
     "data": {
      "text/plain": [
       "'$0.00'"
      ]
     },
     "execution_count": 31,
     "metadata": {},
     "output_type": "execute_result"
    }
   ],
   "source": [
    "paidbyotherinsu = '$'+ benefit.split('PAID BY OTHER INSURANCE')[1].split('ADJUSTMENTS')[0].replace('\\n','').split('$')[1]\n",
    "paidbyotherinsu"
   ]
  },
  {
   "cell_type": "code",
   "execution_count": 32,
   "id": "354e195f",
   "metadata": {},
   "outputs": [
    {
     "data": {
      "text/plain": [
       "'$0.00'"
      ]
     },
     "execution_count": 32,
     "metadata": {},
     "output_type": "execute_result"
    }
   ],
   "source": [
    "adj = '$'+ benefit.split('ADJUSTMENTS')[1].split('TOTAL BENEFIT PAID')[0].replace('\\n','').split('$')[1]\n",
    "adj"
   ]
  },
  {
   "cell_type": "code",
   "execution_count": 33,
   "id": "bbc88c10",
   "metadata": {},
   "outputs": [
    {
     "data": {
      "text/plain": [
       "'$ 110.00'"
      ]
     },
     "execution_count": 33,
     "metadata": {},
     "output_type": "execute_result"
    }
   ],
   "source": [
    "totalbenefitpaid = '$'+ benefit.split('TOTAL BENEFIT PAID')[1].split('PATIENT')[0].replace('\\n','').split('$')[1]\n",
    "totalbenefitpaid"
   ]
  },
  {
   "cell_type": "code",
   "execution_count": 34,
   "id": "aa8e094b",
   "metadata": {},
   "outputs": [
    {
     "data": {
      "text/plain": [
       "'$30.00'"
      ]
     },
     "execution_count": 34,
     "metadata": {},
     "output_type": "execute_result"
    }
   ],
   "source": [
    "patientrep = '$'+ benefit.split('PATIENT')[1].split('TOTALS\\nTOTAL BENEFIT')[0].replace('\\n','').split('$')[1].strip()\n",
    "patientrep"
   ]
  },
  {
   "cell_type": "code",
   "execution_count": 35,
   "id": "34de40cf",
   "metadata": {},
   "outputs": [
    {
     "data": {
      "text/plain": [
       "'$110.00'"
      ]
     },
     "execution_count": 35,
     "metadata": {},
     "output_type": "execute_result"
    }
   ],
   "source": [
    "toalbenfitpayable = benefit.split('PAID BY OTHER INSURANCE')[0].split('\\n')[-2].strip()\n",
    "toalbenfitpayable"
   ]
  },
  {
   "cell_type": "code",
   "execution_count": 36,
   "id": "0d6b7387",
   "metadata": {},
   "outputs": [
    {
     "data": {
      "text/plain": [
       "'$110.00'"
      ]
     },
     "execution_count": 36,
     "metadata": {},
     "output_type": "execute_result"
    }
   ],
   "source": [
    "higherallowable = '$'+ benefit.split('BENEFIT SUMMARY')[1].split('HIGHER ALLOWABLE')[0].replace('\\n','').split('$')[1].strip()\n",
    "higherallowable"
   ]
  },
  {
   "cell_type": "code",
   "execution_count": null,
   "id": "3b6f8e29",
   "metadata": {},
   "outputs": [],
   "source": []
  },
  {
   "cell_type": "code",
   "execution_count": null,
   "id": "b658157b",
   "metadata": {},
   "outputs": [],
   "source": []
  },
  {
   "cell_type": "code",
   "execution_count": null,
   "id": "4c71151a",
   "metadata": {},
   "outputs": [],
   "source": []
  }
 ],
 "metadata": {
  "kernelspec": {
   "display_name": "Python 3 (ipykernel)",
   "language": "python",
   "name": "python3"
  },
  "language_info": {
   "codemirror_mode": {
    "name": "ipython",
    "version": 3
   },
   "file_extension": ".py",
   "mimetype": "text/x-python",
   "name": "python",
   "nbconvert_exporter": "python",
   "pygments_lexer": "ipython3",
   "version": "3.10.5"
  }
 },
 "nbformat": 4,
 "nbformat_minor": 5
}
