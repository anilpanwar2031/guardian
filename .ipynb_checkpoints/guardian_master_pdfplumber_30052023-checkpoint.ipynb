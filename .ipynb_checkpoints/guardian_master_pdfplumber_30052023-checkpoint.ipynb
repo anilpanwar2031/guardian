{
 "cells": [
  {
   "cell_type": "code",
   "execution_count": 1,
   "id": "bcd05a07",
   "metadata": {},
   "outputs": [],
   "source": [
    "import pdfplumber\n",
    "\n",
    "file_path = 'C:\\\\guardian\\\\SD%20Payor%20Scraping\\\\guardian11.pdf'      "
   ]
  },
  {
   "cell_type": "code",
   "execution_count": 2,
   "id": "78c24db8",
   "metadata": {},
   "outputs": [
    {
     "name": "stdout",
     "output_type": "stream",
     "text": [
      "\n",
      "\n",
      "4\n",
      "['1\\n2\\n3', 'D1110/Adult Cleaning\\nD0120/Periodic Eval\\nD1206/Fluoride Varn', '', 'FM\\nFM\\nFM', '02/21/23\\n02/21/23\\n02/21/23', '138.00\\n75.00\\n67.00', '69.00\\n34.00\\n56.95', '69.00\\n34.00\\n0.00', '', '100%\\n100%\\n100%', '69.00\\n34.00\\n0.00']\n",
      "\n",
      "\n",
      "4\n",
      "['1\\n2\\n3', 'D0120/Periodic Eval\\nD1120/Child Cleaning\\nD1206/Fluoride Varn', '', 'FM\\nFM\\nFM', '02/21/23\\n02/21/23\\n02/21/23', '75.00\\n96.00\\n67.00', '34.00\\n49.00\\n56.95', '34.00\\n49.00\\n56.95', '', '100%\\n100%\\n100%', '34.00\\n49.00\\n56.95']\n"
     ]
    }
   ],
   "source": [
    "with pdfplumber.open(file_path) as pdf:\n",
    "  \n",
    "    for page in pdf.pages:\n",
    "        tables = page.extract_tables()\n",
    "        t = 1\n",
    "        for table in tables:\n",
    "            print(\"\\n\")\n",
    "#             print(\"Table\", t)\n",
    "            t += 1\n",
    "            r = 1\n",
    "            print(len(table))\n",
    "            print(table[2])    \n",
    "            for row in table[:-1]:\n",
    "#                 print(\"Row\", r)\n",
    "#                 print(row)\n",
    "                \n",
    "                r +=1\n",
    "                if 'Claim Number' in row[0]:\n",
    "                    text = row[0]\n",
    "                    \n",
    "                if 'Line' in row[0]:\n",
    "                    header = row\n",
    "#                     print(\"Header\", header)\n",
    "                "
   ]
  },
  {
   "cell_type": "code",
   "execution_count": 3,
   "id": "1a1f7b9d",
   "metadata": {},
   "outputs": [],
   "source": [
    "# text = 'Claim Number: 18472E05500 Patient Account No.:15320 Plan Number:00580287 Patient Name: HARPER L NEWTON Employee Name: MICHELLE N BERMAN Relationship: DAUGHTER Planholder: GDH CONSULTING, INC.'"
   ]
  },
  {
   "cell_type": "code",
   "execution_count": 4,
   "id": "709887c0",
   "metadata": {},
   "outputs": [
    {
     "name": "stdout",
     "output_type": "stream",
     "text": [
      "18473E05500\n",
      "15321\n",
      "00580287\n",
      "Patient\n",
      "WILLA K NEWTON \n",
      "MICHELLE N BERMAN \n",
      "DAUGHTER\n",
      "\n",
      "GDH CONSULTING, INC.\n"
     ]
    }
   ],
   "source": [
    "claimnumber = text.split('Claim Number: ')[1].split(' ')[0]\n",
    "patientaccountno = text.split('Patient Account No.:')[1].split(' ')[0]\n",
    "plannumber = text.split('Plan Number:')[1].split(' ')[0]\n",
    "patientname = text.split('Patient Name: ')[1].split('Employee Name')[0]\n",
    "employeename = text.split('Employee Name: ')[1].split('Relationship')[0]\n",
    "realtionship = text.split('Relationship: ')[1].split('Planholder:')[0]\n",
    "planholder = text.split('Planholder: ')[1]\n",
    "print(claimnumber)\n",
    "print(patientaccountno)\n",
    "print(plannumber)\n",
    "print(patientname)\n",
    "print(employeename)\n",
    "print(realtionship)\n",
    "print(planholder)"
   ]
  },
  {
   "cell_type": "code",
   "execution_count": 5,
   "id": "1af8fce0",
   "metadata": {},
   "outputs": [],
   "source": [
    "header = ['Line\\nNo.', 'Submitted\\nADA Codes/Description', 'Alt\\nCode', 'Tooth\\nNo.', 'Date of\\nService', 'Submitted\\nCharge', 'Considered\\nCharge', 'Covered\\nCharge', 'Deductible\\nAmount', 'Coverage\\nPercent', 'Benefit\\nAmount']"
   ]
  },
  {
   "cell_type": "code",
   "execution_count": 6,
   "id": "dd2a8beb",
   "metadata": {},
   "outputs": [
    {
     "data": {
      "text/plain": [
       "['LineNo',\n",
       " 'SubmittedADACodesDescription',\n",
       " 'AltCode',\n",
       " 'ToothNo',\n",
       " 'DateOfService',\n",
       " 'SubmittedCharge',\n",
       " 'ConsideredCharge',\n",
       " 'CoveredCharge',\n",
       " 'DeductibleAmount',\n",
       " 'CoveragePercent',\n",
       " 'BenefitAmount']"
      ]
     },
     "execution_count": 6,
     "metadata": {},
     "output_type": "execute_result"
    }
   ],
   "source": [
    "head = []\n",
    "for h in header:\n",
    "    if 'Line' in h:\n",
    "        head.append(\"LineNo\")\n",
    "    if 'Submitted\\nADA' in h:\n",
    "        head.append(\"SubmittedADACodesDescription\")\n",
    "    if 'Alt' in h:\n",
    "        head.append(\"AltCode\")\n",
    "    if 'Tooth' in h:\n",
    "        head.append(\"ToothNo\")\n",
    "    if 'Date of' in h:\n",
    "        head.append(\"DateOfService\")\n",
    "    if 'Submitted\\nCharge' in h:\n",
    "        head.append(\"SubmittedCharge\")\n",
    "    if 'Considered' in h:\n",
    "        head.append(\"ConsideredCharge\")\n",
    "    if 'Covered\\nCharge' in h:\n",
    "        head.append(\"CoveredCharge\")\n",
    "    if 'Deductible' in h:\n",
    "        head.append(\"DeductibleAmount\")\n",
    "    if 'Coverage\\nPercent' in h:\n",
    "        head.append(\"CoveragePercent\")\n",
    "    if 'Benefit\\nAmount' in h:\n",
    "        head.append(\"BenefitAmount\")\n",
    "head      \n",
    "        \n",
    "        "
   ]
  },
  {
   "cell_type": "code",
   "execution_count": 7,
   "id": "84b31a9c",
   "metadata": {},
   "outputs": [
    {
     "name": "stderr",
     "output_type": "stream",
     "text": [
      "Got stderr: Jun 04, 2023 8:25:18 AM org.apache.pdfbox.pdmodel.font.PDSimpleFont readEncoding\r\n",
      "WARNING: Unknown encoding: BuiltIn\r\n",
      "Jun 04, 2023 8:25:18 AM org.apache.pdfbox.pdmodel.font.PDSimpleFont readEncoding\r\n",
      "WARNING: Unknown encoding: BuiltIn\r\n",
      "Jun 04, 2023 8:25:18 AM org.apache.pdfbox.pdmodel.font.PDSimpleFont readEncoding\r\n",
      "WARNING: Unknown encoding: BuiltIn\r\n",
      "Jun 04, 2023 8:25:18 AM org.apache.pdfbox.pdmodel.font.PDSimpleFont readEncoding\r\n",
      "WARNING: Unknown encoding: BuiltIn\r\n",
      "\n"
     ]
    }
   ],
   "source": [
    "import tabula\n",
    "import pandas as pd\n",
    "tabula_dfs = tabula.read_pdf(file_path,guess=False,pages=1,stream=True,encoding=\"utf-8\",area=(141, 43, 176, 217),multiple_tables=True)"
   ]
  },
  {
   "cell_type": "code",
   "execution_count": 8,
   "id": "489d20a8",
   "metadata": {},
   "outputs": [
    {
     "data": {
      "text/html": [
       "<div>\n",
       "<style scoped>\n",
       "    .dataframe tbody tr th:only-of-type {\n",
       "        vertical-align: middle;\n",
       "    }\n",
       "\n",
       "    .dataframe tbody tr th {\n",
       "        vertical-align: top;\n",
       "    }\n",
       "\n",
       "    .dataframe thead th {\n",
       "        text-align: right;\n",
       "    }\n",
       "</style>\n",
       "<table border=\"1\" class=\"dataframe\">\n",
       "  <thead>\n",
       "    <tr style=\"text-align: right;\">\n",
       "      <th></th>\n",
       "      <th>CHILDREN’S DENTAL AT PRESTON T</th>\n",
       "    </tr>\n",
       "  </thead>\n",
       "  <tbody>\n",
       "    <tr>\n",
       "      <th>0</th>\n",
       "      <td>5708 COLLEYVILLE BLVD STE A</td>\n",
       "    </tr>\n",
       "    <tr>\n",
       "      <th>1</th>\n",
       "      <td>COLLEYVILLE, TX  76034-6065</td>\n",
       "    </tr>\n",
       "  </tbody>\n",
       "</table>\n",
       "</div>"
      ],
      "text/plain": [
       "  CHILDREN’S DENTAL AT PRESTON T\n",
       "0    5708 COLLEYVILLE BLVD STE A\n",
       "1    COLLEYVILLE, TX  76034-6065"
      ]
     },
     "execution_count": 8,
     "metadata": {},
     "output_type": "execute_result"
    }
   ],
   "source": [
    "tabula_dfs[0]"
   ]
  },
  {
   "cell_type": "code",
   "execution_count": 9,
   "id": "8cb5fec3",
   "metadata": {},
   "outputs": [],
   "source": [
    "def process_tabula_address(tabula_df: pd.DataFrame) -> str:\n",
    "    col_name: str = tabula_df.columns[0]\n",
    "    item: str = f\"{col_name} {' '.join(tabula_df[col_name].to_list())}\"\n",
    "    return item"
   ]
  },
  {
   "cell_type": "code",
   "execution_count": 10,
   "id": "ad0967e8",
   "metadata": {},
   "outputs": [],
   "source": [
    "payee_address = process_tabula_address(tabula_dfs[0])"
   ]
  },
  {
   "cell_type": "code",
   "execution_count": 11,
   "id": "db677a37",
   "metadata": {},
   "outputs": [
    {
     "name": "stderr",
     "output_type": "stream",
     "text": [
      "C:\\Users\\pytho\\AppData\\Roaming\\Python\\Python310\\site-packages\\requests\\__init__.py:102: RequestsDependencyWarning: urllib3 (1.26.13) or chardet (5.1.0)/charset_normalizer (2.0.12) doesn't match a supported version!\n",
      "  warnings.warn(\"urllib3 ({}) or chardet ({})/charset_normalizer ({}) doesn't match a supported \"\n"
     ]
    }
   ],
   "source": [
    "from Utilities.pdf_utils  import *\n",
    "def extract_address_details(address_text):\n",
    "    try:\n",
    "        address_list = usaddress.tag(address_text)[0]\n",
    "    except usaddress.RepeatedLabelError as e:\n",
    "            parsed_address = e.parsed_string\n",
    "            print('parsed address is for payor is----------', parsed_address )\n",
    "            address_list = get_address_list_when_exception(parsed_address)\n",
    "\n",
    "\n",
    "    return {\n",
    "        'Item': address_text,\n",
    "        'ItemName': address_list.get('Recipient', ''),\n",
    "        'AddressElements': get_address(address_text, address_list),\n",
    "        'PlaceName': address_list.get('PlaceName', ''),\n",
    "        'StateName': address_list.get('StateName', ''),\n",
    "        'ZipCode': address_list.get('ZipCode', '')\n",
    "    }"
   ]
  },
  {
   "cell_type": "code",
   "execution_count": 12,
   "id": "23d83f85",
   "metadata": {},
   "outputs": [],
   "source": [
    "payee_add_details = extract_address_details(payee_address)"
   ]
  },
  {
   "cell_type": "code",
   "execution_count": 13,
   "id": "7179a627",
   "metadata": {},
   "outputs": [
    {
     "data": {
      "text/plain": [
       "{'Item': 'CHILDREN’S DENTAL AT PRESTON T 5708 COLLEYVILLE BLVD STE A COLLEYVILLE, TX  76034-6065',\n",
       " 'ItemName': 'CHILDREN’S DENTAL AT PRESTON T',\n",
       " 'AddressElements': '5708 COLLEYVILLE BLVD STE A',\n",
       " 'PlaceName': 'COLLEYVILLE',\n",
       " 'StateName': 'TX',\n",
       " 'ZipCode': '76034-6065'}"
      ]
     },
     "execution_count": 13,
     "metadata": {},
     "output_type": "execute_result"
    }
   ],
   "source": [
    "payee_add_details"
   ]
  },
  {
   "cell_type": "code",
   "execution_count": 14,
   "id": "ff349be3",
   "metadata": {},
   "outputs": [
    {
     "name": "stderr",
     "output_type": "stream",
     "text": [
      "Got stderr: Jun 04, 2023 8:25:19 AM org.apache.pdfbox.pdmodel.font.PDSimpleFont readEncoding\r\n",
      "WARNING: Unknown encoding: BuiltIn\r\n",
      "Jun 04, 2023 8:25:19 AM org.apache.pdfbox.pdmodel.font.PDSimpleFont readEncoding\r\n",
      "WARNING: Unknown encoding: BuiltIn\r\n",
      "Jun 04, 2023 8:25:19 AM org.apache.pdfbox.pdmodel.font.PDSimpleFont readEncoding\r\n",
      "WARNING: Unknown encoding: BuiltIn\r\n",
      "Jun 04, 2023 8:25:19 AM org.apache.pdfbox.pdmodel.font.PDSimpleFont readEncoding\r\n",
      "WARNING: Unknown encoding: BuiltIn\r\n",
      "\n"
     ]
    }
   ],
   "source": [
    "tabula_dfs = tabula.read_pdf(file_path,guess=False,pages=1,stream=True,encoding=\"utf-8\",area=(25, 90, 53, 213),multiple_tables=True)"
   ]
  },
  {
   "cell_type": "code",
   "execution_count": 15,
   "id": "b60966f8",
   "metadata": {},
   "outputs": [],
   "source": [
    "payer_address = process_tabula_address(tabula_dfs[0])"
   ]
  },
  {
   "cell_type": "code",
   "execution_count": 16,
   "id": "40a0789b",
   "metadata": {},
   "outputs": [
    {
     "data": {
      "text/plain": [
       "'PO BOX 981572 EL PASO, TX  79998-1572'"
      ]
     },
     "execution_count": 16,
     "metadata": {},
     "output_type": "execute_result"
    }
   ],
   "source": [
    "payer_address"
   ]
  },
  {
   "cell_type": "code",
   "execution_count": 17,
   "id": "700f2298",
   "metadata": {},
   "outputs": [],
   "source": [
    "payer_add_details = extract_address_details(payer_address)"
   ]
  },
  {
   "cell_type": "code",
   "execution_count": 18,
   "id": "58c46e85",
   "metadata": {},
   "outputs": [
    {
     "data": {
      "text/plain": [
       "{'Item': 'PO BOX 981572 EL PASO, TX  79998-1572',\n",
       " 'ItemName': '',\n",
       " 'AddressElements': 'PO BOX 981572',\n",
       " 'PlaceName': 'EL PASO',\n",
       " 'StateName': 'TX',\n",
       " 'ZipCode': '79998-1572'}"
      ]
     },
     "execution_count": 18,
     "metadata": {},
     "output_type": "execute_result"
    }
   ],
   "source": [
    "payer_add_details"
   ]
  },
  {
   "cell_type": "code",
   "execution_count": 19,
   "id": "37893c50",
   "metadata": {},
   "outputs": [
    {
     "name": "stderr",
     "output_type": "stream",
     "text": [
      "Got stderr: Jun 04, 2023 8:25:19 AM org.apache.pdfbox.pdmodel.font.PDSimpleFont readEncoding\r\n",
      "WARNING: Unknown encoding: BuiltIn\r\n",
      "Jun 04, 2023 8:25:19 AM org.apache.pdfbox.pdmodel.font.PDSimpleFont readEncoding\r\n",
      "WARNING: Unknown encoding: BuiltIn\r\n",
      "Jun 04, 2023 8:25:19 AM org.apache.pdfbox.pdmodel.font.PDSimpleFont readEncoding\r\n",
      "WARNING: Unknown encoding: BuiltIn\r\n",
      "Jun 04, 2023 8:25:19 AM org.apache.pdfbox.pdmodel.font.PDSimpleFont readEncoding\r\n",
      "WARNING: Unknown encoding: BuiltIn\r\n",
      "\n"
     ]
    }
   ],
   "source": [
    "other_info = tabula.read_pdf(file_path,guess=False,pages=1,stream=True,encoding=\"utf-8\",area=(97, 288, 152, 570),multiple_tables=True)"
   ]
  },
  {
   "cell_type": "code",
   "execution_count": 20,
   "id": "6572556e",
   "metadata": {},
   "outputs": [],
   "source": [
    "df = other_info[0]"
   ]
  },
  {
   "cell_type": "code",
   "execution_count": 21,
   "id": "9d89901a",
   "metadata": {},
   "outputs": [],
   "source": [
    "df = df.T.reset_index()\n",
    "df.columns = df.iloc[0]\n",
    "df = df[1:].reset_index(drop=True)"
   ]
  },
  {
   "cell_type": "code",
   "execution_count": 22,
   "id": "937b2347",
   "metadata": {},
   "outputs": [],
   "source": [
    "dit = df.to_dict(orient='records')"
   ]
  },
  {
   "cell_type": "code",
   "execution_count": 23,
   "id": "8b29c16c",
   "metadata": {},
   "outputs": [],
   "source": [
    "dit = dit[0]"
   ]
  },
  {
   "cell_type": "code",
   "execution_count": 24,
   "id": "7dff41ac",
   "metadata": {},
   "outputs": [
    {
     "data": {
      "text/plain": [
       "{'ACH Amount:': '24295', 'ACH Bank ID:': 'M0000011'}"
      ]
     },
     "execution_count": 24,
     "metadata": {},
     "output_type": "execute_result"
    }
   ],
   "source": [
    "dit"
   ]
  },
  {
   "cell_type": "code",
   "execution_count": 25,
   "id": "bf913e1a",
   "metadata": {},
   "outputs": [
    {
     "name": "stderr",
     "output_type": "stream",
     "text": [
      "C:\\Users\\pytho\\AppData\\Roaming\\Python\\Python310\\site-packages\\PyPDF2\\_cmap.py:142: PdfReadWarning: Advanced encoding /BuiltIn not implemented yet\n",
      "  warnings.warn(\n"
     ]
    }
   ],
   "source": [
    "from PyPDF2 import PdfReader\n",
    "texts = ' '\n",
    "with open(file_path, 'rb') as file:\n",
    "    # Create a PdfReader object\n",
    "    pdf = PdfReader(file)\n",
    "\n",
    "    # Extract text from each page\n",
    "    for page in pdf.pages:\n",
    "        text = page.extract_text()\n",
    "        texts = texts + text + ' '\n",
    " "
   ]
  },
  {
   "cell_type": "code",
   "execution_count": 26,
   "id": "933669c9",
   "metadata": {},
   "outputs": [
    {
     "data": {
      "text/plain": [
       "\" CCOMPDDATCCOMPNM: Guardian Life InsurancCCOMPIDENT 3135123390CIMMORIGN Guardian Life InsuranceCIMMDESTN BANK OF AMERICACIMMDEST: 011900254CIMMORIGIN: 2135123390\\nCADDENDA:CORIGDFIID: 01190025IEFFDTDIFF: 2CCMPENTDCS HCCLAIMPMTPayee Bank:\\nACH Amount:Payee Name:\\nCTRANSCODEACH Bank ID:\\nCPROVID:M0000011\\n2224295064000020CHILDREN'S DENTAL AT PRESTON\\nACH TransactionP6274000000\\nFFADATFAFFTATADFAFTTTFAAAFATFTAADFDATTTDFTTADATFFDA DFFTFTFFDDDTFA19688 0.0124\\nCOLLEYVILLE, TX  76034-6065CHILDREN’S DENTAL AT PRESTON T\\n5708 COLLEYVILLE BLVD STE A\\nEL PASO, TX  79998-1572PO BOX 981572\\nElectronic Service RequestedPEFTCHECK\\n202303033000    \\nENV 19688           1 OF 1 PEFTCHECK        If you have any\\nquestions contact:(800) 541-7846\\nWWW.GUARDIANANYTIME.COM\\nProvider: JANENE SPERANDEO\\nDate: 02/27/23\\nPROVIDER EXPLANATION OF BENEFITS - THIS IS NOT A BILL\\nImportant!  Please examine this statement for accuracy.  Save this statement for tax purposes.\\nPayee:\\nCheck No.:CHILDREN'S DENTAL AT PRESTON \\n186250290\\nPayment Amount: $242.95\\nExpedite cash flow with e-payments. Sign up today!\\nGuardian has contracted with Change Healthcare, a leading provider of \\nrevenue and payment cycle solutions, to deliver Electronic Funds Transfer \\n(EFT) services! Sign-up today by going to www.changehealthcare.com/support\\n/customer-resources/enrollment-services  for more information. Enrollment for \\nthis service is offered to you at no additional cost and is available online or by \\ncalling 1.866.777.0713 and selecting Option 1.\\nSubmitted\\nADA Codes/DescriptionTooth\\nNo.Date of\\nServiceSubmitted\\nChargeCoverage\\nPercentAlt\\nCodeConsidered\\nChargeCovered\\nChargeDeductible\\nAmountBenefit\\nAmountLine \\nNo.Claim Number:\\nPatient Name:18472E05500\\nHARPER L NEWTON\\nGDH CONSULTING, INC.Patient Account No.:\\nEmployee Name:15320\\nMICHELLE N BERMANPlan Number:\\nRelationship: DAUGHTER00580287\\nPlanholder:\\n1 D1110/Adult Cleaning 69.00 69.00 02/21/23 69.00 138.00 100% FM\\n2 D0120/Periodic Eval 34.00 34.00 02/21/23 34.00 75.00 100% FM\\n3 D1206/Fluoride Varn 0.00 56.95 02/21/23 0.00 67.00 100% FM\\n103.00 280.00 159.95 103.00\\n$103.00\\nPAID BY OTHER INSURANCE..... $0.00\\nADJUSTMENTS............................... $0.00\\nTOTAL BENEFIT PAID.................. $ 103.00\\nPATIENT'S RESPONSIBILITY..... $56.95TOTALS\\nTOTAL BENEFIT PAYABLE.........BENEFIT SUMMARY\\n$103.00 HIGHER ALLOWABLE.................. 0.00\\nRemarks for claim # 18472E05500:\\nDISCOUNT THROUGH MAXIMUMCARE NETWORK POWERED BY CAREINGTON & DENTEMAX\\n3.  The dental plan covers fluoride treatment only for covered patients under the age of 14.\\nBenefits are based on the use of a Preferred Contracted Dentist.\\nYou have used     $0.00 of your personal Maximum Rollover Account.   $500.00 remains in your account\\n10 Hudson Yards\\n51-44\\n119EFT NO: 186250290\\nPAY Two Hundred Forty Two & 95/100 Dollars****$242.95AMOUNT\\nTO THE\\nORDER OFCHILDREN'S DENTAL AT PRESTON T\\nBANK OF AMERICA\\n150 WINDSOR STREET, HARTFORD, CT 06120DATE: 02/27/23\\nVoid unless presented \\nwithin 180 daysNew York, NY 10001\\nPAYMENT MADE\\nELECTRONICALLY\\n___________________________________________________FFADATFAFFTATADFAFTTTFAAAFATFTAADFDATTTDFTTADATFFDA DFFTFTFFDDDTFA8700 0.0248\\nCOLLEYVILLE, TX  76034-6065CHILDREN’S DENTAL AT PRESTON T\\n5708 COLLEYVILLE BLVD STE A\\nEL PASO, TX  79998-1572PO BOX 981572\\nElectronic Service RequestedP627402800G\\n 034300   \\nENV 8700           1 OF 2 P627402800G       P627402800G\\n 034300   \\nENV 8700           1 OF 2 P627402800G        If you have any\\nquestions contact:(800) 541-7846\\nWWW.GUARDIANANYTIME.COM\\nProvider:\\nDate:JANENE SPERANDEO\\n02/27/23EL PASO TX 79998-1572PO BOX 981572\\nPayee:\\nCheck No.:\\nPayment Amount:CHILDREN'S DENTAL AT PRESTON \\n186250290\\n$242.95\\nSubmitted\\nADA Codes/DescriptionTooth\\nNo.Date of\\nServiceSubmitted\\nChargeCoverage\\nPercentAlt\\nCodeConsidered\\nChargeCovered\\nChargeDeductible\\nAmountBenefit\\nAmountLine \\nNo.Claim Number:\\nPatient Name:18473E05500\\nWILLA K NEWTON\\nGDH CONSULTING, INC.Patient Account No.:\\nEmployee Name:15321\\nMICHELLE N BERMANPlan Number:\\nRelationship: DAUGHTER00580287\\nPlanholder:\\n1 D0120/Periodic Eval 34.00 34.00 02/21/23 34.00 75.00 100% FM\\n2 D1120/Child Cleaning 49.00 49.00 02/21/23 49.00 96.00 100% FM\\n3 D1206/Fluoride Varn 56.95 56.95 02/21/23 56.95 67.00 100% FM\\n139.95 238.00 139.95 139.95\\n$139.95\\nPAID BY OTHER INSURANCE..... $0.00\\nADJUSTMENTS............................... $0.00\\nTOTAL BENEFIT PAID.................. $ 139.95\\nPATIENT'S RESPONSIBILITY..... $0.00TOTALS\\nTOTAL BENEFIT PAYABLE.........BENEFIT SUMMARY\\n$139.95 HIGHER ALLOWABLE.................. 0.00\\nRemarks for claim # 18473E05500:\\nDISCOUNT THROUGH MAXIMUMCARE NETWORK POWERED BY CAREINGTON & DENTEMAX\\nBenefits are based on the use of a Preferred Contracted Dentist.\\nYou have used     $0.00 of your personal Maximum Rollover Account.   $350.00 remains in your account\\nComments:\\nCurrent Dental Terminology  © 2021 American Dental Association.  All rights reserved.\\nLog on to www.GuardianAnytime.com  for instant access to clinical policy guidelines and benefits information for Guardian members. Verify eligibility, view\\nbenefits, check claim status and more!P627402800G\\n    \\nENV 8700           2 OF 2 P627402800G034300       P627402800G\\n    \\nENV 8700           2 OF 2 P627402800G034300        \""
      ]
     },
     "execution_count": 26,
     "metadata": {},
     "output_type": "execute_result"
    }
   ],
   "source": [
    "texts"
   ]
  },
  {
   "cell_type": "code",
   "execution_count": 29,
   "id": "c6b8bc88",
   "metadata": {},
   "outputs": [],
   "source": [
    "claimnumber = '18472E05500'\n",
    "# claimnumber = '18473E05500'\n",
    "\n",
    "remarks = texts.split(f\"Remarks for claim # {claimnumber}:\")[1]\n",
    "\n",
    "if '10 Hudson' in  remarks:\n",
    "    remarks = remarks.split('10 Hudson')[0]\n",
    "else:\n",
    "    remarks = remarks.split('Comments:')[0]"
   ]
  },
  {
   "cell_type": "code",
   "execution_count": 30,
   "id": "455b1e47",
   "metadata": {},
   "outputs": [
    {
     "data": {
      "text/plain": [
       "'DISCOUNT THROUGH MAXIMUMCARE NETWORK POWERED BY CAREINGTON & DENTEMAX 3.  The dental plan covers fluoride treatment only for covered patients under the age of 14. Benefits are based on the use of a Preferred Contracted Dentist. You have used     $0.00 of your personal Maximum Rollover Account.   $500.00 remains in your account'"
      ]
     },
     "execution_count": 30,
     "metadata": {},
     "output_type": "execute_result"
    }
   ],
   "source": [
    "remarks.replace('\\n', ' ').strip()"
   ]
  },
  {
   "cell_type": "code",
   "execution_count": 37,
   "id": "13d47fdc",
   "metadata": {},
   "outputs": [
    {
     "data": {
      "text/plain": [
       "\" CCOMPDDATCCOMPNM: Guardian Life InsurancCCOMPIDENT 3135123390CIMMORIGN Guardian Life InsuranceCIMMDESTN BANK OF AMERICACIMMDEST: 011900254CIMMORIGIN: 2135123390\\nCADDENDA:CORIGDFIID: 01190025IEFFDTDIFF: 2CCMPENTDCS HCCLAIMPMTPayee Bank:\\nACH Amount:Payee Name:\\nCTRANSCODEACH Bank ID:\\nCPROVID:M0000011\\n2224295064000020CHILDREN'S DENTAL AT PRESTON\\nACH TransactionP6274000000\\nFFADATFAFFTATADFAFTTTFAAAFATFTAADFDATTTDFTTADATFFDA DFFTFTFFDDDTFA19688 0.0124\\nCOLLEYVILLE, TX  76034-6065CHILDREN’S DENTAL AT PRESTON T\\n5708 COLLEYVILLE BLVD STE A\\nEL PASO, TX  79998-1572PO BOX 981572\\nElectronic Service RequestedPEFTCHECK\\n202303033000    \\nENV 19688           1 OF 1 PEFTCHECK        If you have any\\nquestions contact:(800) 541-7846\\nWWW.GUARDIANANYTIME.COM\\nProvider: JANENE SPERANDEO\\nDate: 02/27/23\\nPROVIDER EXPLANATION OF BENEFITS - THIS IS NOT A BILL\\nImportant!  Please examine this statement for accuracy.  Save this statement for tax purposes.\\nPayee:\\nCheck No.:CHILDREN'S DENTAL AT PRESTON \\n186250290\\nPayment Amount: $242.95\\nExpedite cash flow with e-payments. Sign up today!\\nGuardian has contracted with Change Healthcare, a leading provider of \\nrevenue and payment cycle solutions, to deliver Electronic Funds Transfer \\n(EFT) services! Sign-up today by going to www.changehealthcare.com/support\\n/customer-resources/enrollment-services  for more information. Enrollment for \\nthis service is offered to you at no additional cost and is available online or by \\ncalling 1.866.777.0713 and selecting Option 1.\\nSubmitted\\nADA Codes/DescriptionTooth\\nNo.Date of\\nServiceSubmitted\\nChargeCoverage\\nPercentAlt\\nCodeConsidered\\nChargeCovered\\nChargeDeductible\\nAmountBenefit\\nAmountLine \\nNo.Claim Number:\\nPatient Name:18472E05500\\nHARPER L NEWTON\\nGDH CONSULTING, INC.Patient Account No.:\\nEmployee Name:15320\\nMICHELLE N BERMANPlan Number:\\nRelationship: DAUGHTER00580287\\nPlanholder:\\n1 D1110/Adult Cleaning 69.00 69.00 02/21/23 69.00 138.00 100% FM\\n2 D0120/Periodic Eval 34.00 34.00 02/21/23 34.00 75.00 100% FM\\n3 D1206/Fluoride Varn 0.00 56.95 02/21/23 0.00 67.00 100% FM\\n103.00 280.00 159.95 103.00\\n$103.00\\nPAID BY OTHER INSURANCE..... $0.00\\nADJUSTMENTS............................... $0.00\\nTOTAL BENEFIT PAID.................. $ 103.00\\nPATIENT'S RESPONSIBILITY..... $56.95TOTALS\\nTOTAL BENEFIT PAYABLE.........BENEFIT SUMMARY\\n$103.00 HIGHER ALLOWABLE.................. 0.00\\n\""
      ]
     },
     "execution_count": 37,
     "metadata": {},
     "output_type": "execute_result"
    }
   ],
   "source": [
    "benefit = texts.split(f\"Remarks for claim # {claimnumber}:\")[0]\n",
    "benefit"
   ]
  },
  {
   "cell_type": "code",
   "execution_count": 50,
   "id": "6deee246",
   "metadata": {},
   "outputs": [
    {
     "data": {
      "text/plain": [
       "'$0.00'"
      ]
     },
     "execution_count": 50,
     "metadata": {},
     "output_type": "execute_result"
    }
   ],
   "source": [
    "paidbyotherinsu = '$'+ benefit.split('PAID BY OTHER INSURANCE')[1].split('ADJUSTMENTS')[0].replace('\\n','').split('$')[1]\n",
    "paidbyotherinsu"
   ]
  },
  {
   "cell_type": "code",
   "execution_count": 52,
   "id": "8f7e1f01",
   "metadata": {},
   "outputs": [
    {
     "data": {
      "text/plain": [
       "'$0.00'"
      ]
     },
     "execution_count": 52,
     "metadata": {},
     "output_type": "execute_result"
    }
   ],
   "source": [
    "adj = '$'+ benefit.split('ADJUSTMENTS')[1].split('TOTAL BENEFIT PAID')[0].replace('\\n','').split('$')[1]\n",
    "adj"
   ]
  },
  {
   "cell_type": "code",
   "execution_count": 57,
   "id": "b434a850",
   "metadata": {},
   "outputs": [
    {
     "data": {
      "text/plain": [
       "'$ 103.00'"
      ]
     },
     "execution_count": 57,
     "metadata": {},
     "output_type": "execute_result"
    }
   ],
   "source": [
    "totalbenefitpaid = '$'+ benefit.split('TOTAL BENEFIT PAID')[1].split('PATIENT')[0].replace('\\n','').split('$')[1]\n",
    "totalbenefitpaid"
   ]
  },
  {
   "cell_type": "code",
   "execution_count": 58,
   "id": "bd4df3ba",
   "metadata": {},
   "outputs": [
    {
     "data": {
      "text/plain": [
       "'$56.95'"
      ]
     },
     "execution_count": 58,
     "metadata": {},
     "output_type": "execute_result"
    }
   ],
   "source": [
    "patientrep = '$'+ benefit.split('PATIENT')[1].split('TOTALS\\nTOTAL BENEFIT')[0].replace('\\n','').split('$')[1].strip()\n",
    "patientrep"
   ]
  },
  {
   "cell_type": "code",
   "execution_count": 60,
   "id": "31e85162",
   "metadata": {},
   "outputs": [
    {
     "data": {
      "text/plain": [
       "'$103.00'"
      ]
     },
     "execution_count": 60,
     "metadata": {},
     "output_type": "execute_result"
    }
   ],
   "source": [
    "toalbenfitpayable = '$'+ benefit.split('BENEFIT SUMMARY')[1].split('HIGHER ALLOWABLE')[0].replace('\\n','').split('$')[1].strip()\n",
    "toalbenfitpayable"
   ]
  },
  {
   "cell_type": "code",
   "execution_count": null,
   "id": "798444e8",
   "metadata": {},
   "outputs": [],
   "source": []
  }
 ],
 "metadata": {
  "kernelspec": {
   "display_name": "Python 3 (ipykernel)",
   "language": "python",
   "name": "python3"
  },
  "language_info": {
   "codemirror_mode": {
    "name": "ipython",
    "version": 3
   },
   "file_extension": ".py",
   "mimetype": "text/x-python",
   "name": "python",
   "nbconvert_exporter": "python",
   "pygments_lexer": "ipython3",
   "version": "3.10.5"
  }
 },
 "nbformat": 4,
 "nbformat_minor": 5
}
