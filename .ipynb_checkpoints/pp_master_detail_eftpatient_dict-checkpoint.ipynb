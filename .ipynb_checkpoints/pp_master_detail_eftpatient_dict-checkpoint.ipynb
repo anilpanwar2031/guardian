{
 "cells": [
  {
   "cell_type": "code",
   "execution_count": 1,
   "id": "ef3370ff",
   "metadata": {},
   "outputs": [],
   "source": [
    "import json"
   ]
  },
  {
   "cell_type": "code",
   "execution_count": null,
   "id": "4ba94b26",
   "metadata": {},
   "outputs": [],
   "source": [
    "eftpatients = { \"MemberNo\",\"PatientName\",\"PayerClaimId\",\"PayerPaid\",\"PlanType\",\"PPTransPayorListID\",\"ProviderClaimId\",\"RecordID\",\"RenderingProviderFirstName\",\"RenderingProviderID\",\"RenderingProviderLastName\",\"SubscriberID\"             }"
   ]
  },
  {
   "cell_type": "code",
   "execution_count": 2,
   "id": "94dbb9d1",
   "metadata": {},
   "outputs": [],
   "source": [
    "eobclaimmaster = {'ClaimStatus','EFT_CheckNumber','Notes','PayeeAddress','PayeeCity','PayeeName','PayeeState','PayeeTaxID','PayeeZip','PayerAddress','PayerCity','PayerClaimID','PayerContact','PayerID','PayerName','PayerState','PayerZip','PaymentMethodCode','PPGridViewId','PPTransPayorListID','RecordID','RenderingProvider','RenderingProviderID','SubscriberID','TotalAmount','url'}\n"
   ]
  },
  {
   "cell_type": "code",
   "execution_count": null,
   "id": "2f3051ba",
   "metadata": {},
   "outputs": [],
   "source": [
    "eobclaimdetails = {\"ActualAllowed\",\"Adjustments\",\"ContractualObligations\",\"Enrollee_ClaimID\",\"OtherAdjustments\",\"PatientResp\",\"PayableAmount\",\"PayerInitiatedReductions\",\"ProcCode\",\"RecordID\",\"RemarkCodes\",\"ServiceDate\",\"SubmittedCharges\",\"PPGridViewId\"}"
   ]
  },
  {
   "cell_type": "code",
   "execution_count": 3,
   "id": "65d0fc71",
   "metadata": {},
   "outputs": [],
   "source": [
    "gmaster = {\n",
    "        \"SubscriberID\": \"\",\n",
    "        \"PatientName\": \"EDMUND GROVER \",\n",
    "        \"Relationship\": \"SON\",\n",
    "        \"ClaimId\": \"36343F13200\",\n",
    "        \"PatientAccount\": \"120262917\",\n",
    "        \"TransactionFee\": \"\",\n",
    "        \"url\": \"\",\n",
    "        \"Notes\": \"AN AETNA DENTAL ACCESS PARTICIPATING DENTIST HAS BEEN UTILIZED 4. The treatment plan does not meet the clinical criteria (which is established based on the patient's age) for coverage of general anesthesia or sedation. Benefits are based on the use of a Preferred Contracted Dentist.\",\n",
    "        \"PayerClaimID\": \"36343F13200\",\n",
    "        \"TotalAmount\": \"$351.20\",\n",
    "        \"ClaimStatus\": \"\",\n",
    "        \"RenderingProvider\": \"DON REES BOREN\",\n",
    "        \"Payer\": \"PO BOX 981572 EL PASO, TX  79998-1572\",\n",
    "        \"PayerName\": \"Guardian\",\n",
    "        \"PayerAddress\": \"PO BOX 981572\",\n",
    "        \"PayerCity\": \"EL PASO\",\n",
    "        \"PayerState\": \"TX\",\n",
    "        \"PayerZip\": \"79998-1572\",\n",
    "        \"Payee\": \"UT BCDO SPECIALTY DENTAL SERVI 1275 E FORT UNION BLVD STE 100 MIDVALE, UT  84047-1890\",\n",
    "        \"PayeeName\": \"UT BCDO SPECIALTY DENTAL SERVI\",\n",
    "        \"PayeeAddress\": \"1275 E FORT UNION BLVD STE 100\",\n",
    "        \"PayeeCity\": \"MIDVALE\",\n",
    "        \"PayeeState\": \"UT\",\n",
    "        \"PayeeZip\": \"84047-1890\",\n",
    "        \"Provider\": \"DON REES BOREN\",\n",
    "        \"EFT_CheckDate\": \"05/12/2023\",\n",
    "        \"EFT_CheckNumber\": \"187857316\",\n",
    "        \"PaidByOtherInsurance\": \"$0.00\",\n",
    "        \"TotalBenefitPaid\": \"$ 241.20\",\n",
    "        \"patientrep\": \"$105.80\",\n",
    "        \"toalbenfitpayable\": \"$241.20\",\n",
    "        \"higherallowable\": \"$318.00\"\n",
    "    }"
   ]
  },
  {
   "cell_type": "code",
   "execution_count": 4,
   "id": "f7921685",
   "metadata": {},
   "outputs": [],
   "source": [
    "gk = set(gmaster.keys())\n"
   ]
  },
  {
   "cell_type": "code",
   "execution_count": 5,
   "id": "3b447393",
   "metadata": {},
   "outputs": [
    {
     "data": {
      "text/plain": [
       "{'PPGridViewId',\n",
       " 'PPTransPayorListID',\n",
       " 'PayeeTaxID',\n",
       " 'PayerContact',\n",
       " 'PayerID',\n",
       " 'PaymentMethodCode',\n",
       " 'RecordID',\n",
       " 'RenderingProviderID'}"
      ]
     },
     "execution_count": 5,
     "metadata": {},
     "output_type": "execute_result"
    },
    {
     "data": {
      "text/plain": [
       "{'PPGridViewId',\n",
       " 'PPTransPayorListID',\n",
       " 'PayeeTaxID',\n",
       " 'PayerContact',\n",
       " 'PayerID',\n",
       " 'PaymentMethodCode',\n",
       " 'RecordID',\n",
       " 'RenderingProviderID'}"
      ]
     },
     "execution_count": 5,
     "metadata": {},
     "output_type": "execute_result"
    }
   ],
   "source": [
    "k = master -gk\n",
    "k"
   ]
  },
  {
   "cell_type": "code",
   "execution_count": 6,
   "id": "95be2e3a",
   "metadata": {},
   "outputs": [],
   "source": [
    "eftpatients = { \"MemberNo\",\"PatientName\",\"PayerClaimId\",\"PayerPaid\",\"PlanType\",\"PPTransPayorListID\",\"ProviderClaimId\",\"RecordID\",\"RenderingProviderFirstName\",\"RenderingProviderID\",\"RenderingProviderLastName\",\"SubscriberID\"             }"
   ]
  },
  {
   "cell_type": "code",
   "execution_count": 7,
   "id": "ac1ceaeb",
   "metadata": {},
   "outputs": [],
   "source": [
    "eobdetails = {\"ActualAllowed\",\"Adjustments\",\"ContractualObligations\",\"Enrollee_ClaimID\",\"OtherAdjustments\",\"PatientResp\",\"PayableAmount\",\"PayerInitiatedReductions\",\"ProcCode\",\"RecordID\",\"RemarkCodes\",\"ServiceDate\",\"SubmittedCharges\",\"PPGridViewId\"}"
   ]
  },
  {
   "cell_type": "code",
   "execution_count": 8,
   "id": "92c022e0",
   "metadata": {},
   "outputs": [],
   "source": [
    "file_path = \"C:\\\\guardian\\\\SD%20Payor%20Scraping\\\\guardian_output.json\"\n"
   ]
  },
  {
   "cell_type": "code",
   "execution_count": 9,
   "id": "1ee74e75",
   "metadata": {},
   "outputs": [
    {
     "name": "stdout",
     "output_type": "stream",
     "text": [
      "{'EFTPatients': [{'SubscriberID': '', 'ProviderClaimId': '', 'PayerClaimId': '', 'MemberNo': '120262917', 'RenderingProviderFirstName': 'DON', 'RenderingProviderLastName': 'BOREN', 'PatientName': 'EDMUND GROVER', 'PlanType': '', 'PlanNumber': '00558774', 'RenderingProviderID': '', 'PayerPaid': '', 'RecordID': '', 'PPTransPayorListID': '', 'ClientId': '', 'EligibilityVerificationId': '44', 'RecordId': 1}, {'SubscriberID': '', 'ProviderClaimId': '', 'PayerClaimId': '', 'MemberNo': '120320346', 'RenderingProviderFirstName': 'DON', 'RenderingProviderLastName': 'BOREN', 'PatientName': 'ANDREW CASEY', 'PlanType': '', 'PlanNumber': '00581682', 'RenderingProviderID': '', 'PayerPaid': '', 'RecordID': '', 'PPTransPayorListID': '', 'ClientId': '', 'EligibilityVerificationId': '44', 'RecordId': 2}], 'PpEobClaimMaster': [{'SubscriberID': '', 'PatientName': 'EDMUND GROVER', 'Relationship': 'SON', 'ClaimId': '36343F13200', 'PatientAccount': '120262917', 'PlanNumber': '00558774', 'EmployeeName': 'GEOFFREY GROVER', 'PlanHolder': 'VARO MONEY, INC.', 'TransactionFee': '', 'url': '', 'Notes': \"AN AETNA DENTAL ACCESS PARTICIPATING DENTIST HAS BEEN UTILIZED 4. The treatment plan does not meet the clinical criteria (which is established based on the patient's age) for coverage of general anesthesia or sedation. Benefits are based on the use of a Preferred Contracted Dentist.\", 'PayerClaimID': '36343F13200', 'TotalAmount': '$351.20', 'ClaimStatus': '', 'RenderingProvider': 'DON REES BOREN', 'Payer': 'PO BOX 981572 EL PASO, TX  79998-1572', 'PayerName': 'Guardian', 'PayerAddress': 'PO BOX 981572', 'PayerCity': 'EL PASO', 'PayerState': 'TX', 'PayerZip': '79998-1572', 'Payee': 'UT BCDO SPECIALTY DENTAL SERVI 1275 E FORT UNION BLVD STE 100 MIDVALE, UT  84047-1890', 'PayeeName': 'UT BCDO SPECIALTY DENTAL SERVI', 'PayeeAddress': '1275 E FORT UNION BLVD STE 100', 'PayeeCity': 'MIDVALE', 'PayeeState': 'UT', 'PayeeZip': '84047-1890', 'Provider': 'DON REES BOREN', 'EFT_CheckDate': '05/12/2023', 'EFT_CheckNumber': '187857316', 'PaidByOtherInsurance': '$0.00', 'TotalBenefitPaid': '$ 241.20', 'PatientResp': '$105.80', 'TotalBenfitPayable': '$241.20', 'HigherAllowable': '$318.00', 'PPGridViewId': '', 'PPTransPayorListID': '', 'PayeeTaxID': '', 'PayerContact': '(800) 541-7846', 'PayerID': '', 'PaymentMethodCode': '', 'RecordID': '', 'RenderingProviderID': '', 'RecordId': 1}, {'SubscriberID': '', 'PatientName': 'ANDREW CASEY', 'Relationship': 'SON', 'ClaimId': '36347F13200', 'PatientAccount': '120320346', 'PlanNumber': '00581682', 'EmployeeName': 'ANDREW CASEY', 'PlanHolder': 'GOENGINEER, INC.', 'TransactionFee': '', 'url': '', 'Notes': 'AN AETNA DENTAL ACCESS PARTICIPATING DENTIST HAS BEEN UTILIZED 6. The dental plan covers bitewing radiographic images only once in any 12 consecutive month period, up to a maximum of four films or a set of 7-8 vertical films, in one visit. Benefits are based on the use of a Preferred Contracted Dentist. You have used   $0.00 of your personal Maximum Rollover Account.  $700.00 remains in your account', 'PayerClaimID': '36347F13200', 'TotalAmount': '$351.20', 'ClaimStatus': '', 'RenderingProvider': 'DON REES BOREN', 'Payer': 'PO BOX 981572 EL PASO, TX  79998-1572', 'PayerName': 'Guardian', 'PayerAddress': 'PO BOX 981572', 'PayerCity': 'EL PASO', 'PayerState': 'TX', 'PayerZip': '79998-1572', 'Payee': 'UT BCDO SPECIALTY DENTAL SERVI 1275 E FORT UNION BLVD STE 100 MIDVALE, UT  84047-1890', 'PayeeName': 'UT BCDO SPECIALTY DENTAL SERVI', 'PayeeAddress': '1275 E FORT UNION BLVD STE 100', 'PayeeCity': 'MIDVALE', 'PayeeState': 'UT', 'PayeeZip': '84047-1890', 'Provider': 'DON REES BOREN', 'EFT_CheckDate': '05/12/2023', 'EFT_CheckNumber': '187857316', 'PaidByOtherInsurance': '$0.00', 'TotalBenefitPaid': '$ 110.00', 'PatientResp': '$30.00', 'TotalBenfitPayable': '$110.00', 'HigherAllowable': '$110.00', 'PPGridViewId': '', 'PPTransPayorListID': '', 'PayeeTaxID': '', 'PayerContact': '(800) 541-7846', 'PayerID': '', 'PaymentMethodCode': '', 'RecordID': '', 'RenderingProviderID': '', 'RecordId': 2}], 'PpEobClaimDetail': [{'SubmittedADACodesDescription': '1 D2392/Pst Composite2', 'AltCode': '', 'ToothNo': 'T', 'DateOfService': '05/09/23', 'SubmittedCharge': '152.00', 'ConsideredCharge': '100.00', 'CoveredCharge': '100.00', 'DeductibleAmount': '', 'CoveragePercent': '50.00', 'BenefitAmount': '90%', 'PatientResp': '', 'Adjustments': '', 'RecordId': 1}, {'SubmittedADACodesDescription': '2 D7140/Extraction', 'AltCode': '', 'ToothNo': 'S', 'DateOfService': '05/09/23', 'SubmittedCharge': '119.00', 'ConsideredCharge': '69.00', 'CoveredCharge': '69.00', 'DeductibleAmount': '', 'CoveragePercent': '90%', 'BenefitAmount': '62.10', 'PatientResp': '', 'Adjustments': '', 'RecordId': 2}, {'SubmittedADACodesDescription': '3 D1510/Space Maintain', 'AltCode': '', 'ToothNo': 'LR', 'DateOfService': '05/09/23', 'SubmittedCharge': '228.00', 'ConsideredCharge': '149.00', 'CoveredCharge': '149.00', 'DeductibleAmount': '', 'CoveragePercent': '90%', 'BenefitAmount': '134.10', 'PatientResp': '', 'Adjustments': ''}, {'SubmittedADACodesDescription': '4 D9230/Analgesia/N20', 'AltCode': '', 'ToothNo': 'FM', 'DateOfService': '05/09/23', 'SubmittedCharge': '30.00', 'ConsideredCharge': '29.00', 'CoveredCharge': '0.00', 'DeductibleAmount': '', 'CoveragePercent': '90%', 'BenefitAmount': '0.00', 'PatientResp': '', 'Adjustments': ''}, {'SubmittedADACodesDescription': '1 D0120/Periodic Eval', 'AltCode': '', 'ToothNo': 'FM', 'DateOfService': '05/10/23', 'SubmittedCharge': '39.00', 'ConsideredCharge': '27.00', 'CoveredCharge': '27.00', 'DeductibleAmount': '', 'CoveragePercent': '100%', 'BenefitAmount': '27.00', 'PatientResp': '', 'Adjustments': ''}, {'SubmittedADACodesDescription': '2 D0240/Occlusal Image', 'AltCode': '', 'ToothNo': 'FM', 'DateOfService': '05/10/23', 'SubmittedCharge': '27.00', 'ConsideredCharge': '14.00', 'CoveredCharge': '14.00', 'DeductibleAmount': '', 'CoveragePercent': '100%', 'BenefitAmount': '14.00', 'PatientResp': '', 'Adjustments': ''}, {'SubmittedADACodesDescription': '3 D0240/Occlusal Image', 'AltCode': '', 'ToothNo': 'FM', 'DateOfService': '05/10/23', 'SubmittedCharge': '27.00', 'ConsideredCharge': '14.00', 'CoveredCharge': '14.00', 'DeductibleAmount': '', 'CoveragePercent': '100%', 'BenefitAmount': '14.00', 'PatientResp': '', 'Adjustments': ''}, {'SubmittedADACodesDescription': '4 D1120/Child Cleaning', 'AltCode': '', 'ToothNo': 'FM', 'DateOfService': '05/10/23', 'SubmittedCharge': '52.00', 'ConsideredCharge': '39.00', 'CoveredCharge': '39.00', 'DeductibleAmount': '', 'CoveragePercent': '100%', 'BenefitAmount': '39.00', 'PatientResp': '', 'Adjustments': ''}, {'SubmittedADACodesDescription': '5 D1206/Fluoride Varn', 'AltCode': '', 'ToothNo': 'FM', 'DateOfService': '05/10/23', 'SubmittedCharge': '36.00', 'ConsideredCharge': '16.00', 'CoveredCharge': '16.00', 'DeductibleAmount': '', 'CoveragePercent': '100%', 'BenefitAmount': '16.00', 'PatientResp': '', 'Adjustments': ''}, {'SubmittedADACodesDescription': '6 D0274/Bitewing - 4', 'AltCode': '', 'ToothNo': 'FM', 'DateOfService': '05/10/23', 'SubmittedCharge': '52.00', 'ConsideredCharge': '30.00', 'CoveredCharge': '0.00', 'DeductibleAmount': '', 'CoveragePercent': '100%', 'BenefitAmount': '0.00', 'PatientResp': '', 'Adjustments': ''}]}\n",
      "{'EFTPatients': [{'SubscriberID': '', 'ProviderClaimId': '', 'PayerClaimId': '', 'MemberNo': '120262917', 'RenderingProviderFirstName': 'DON', 'RenderingProviderLastName': 'BOREN', 'PatientName': 'EDMUND GROVER', 'PlanType': '', 'PlanNumber': '00558774', 'RenderingProviderID': '', 'PayerPaid': '', 'RecordID': '', 'PPTransPayorListID': '', 'ClientId': '', 'EligibilityVerificationId': '44', 'RecordId': 1}, {'SubscriberID': '', 'ProviderClaimId': '', 'PayerClaimId': '', 'MemberNo': '120320346', 'RenderingProviderFirstName': 'DON', 'RenderingProviderLastName': 'BOREN', 'PatientName': 'ANDREW CASEY', 'PlanType': '', 'PlanNumber': '00581682', 'RenderingProviderID': '', 'PayerPaid': '', 'RecordID': '', 'PPTransPayorListID': '', 'ClientId': '', 'EligibilityVerificationId': '44', 'RecordId': 2}], 'PpEobClaimMaster': [{'SubscriberID': '', 'PatientName': 'EDMUND GROVER', 'Relationship': 'SON', 'ClaimId': '36343F13200', 'PatientAccount': '120262917', 'PlanNumber': '00558774', 'EmployeeName': 'GEOFFREY GROVER', 'PlanHolder': 'VARO MONEY, INC.', 'TransactionFee': '', 'url': '', 'Notes': \"AN AETNA DENTAL ACCESS PARTICIPATING DENTIST HAS BEEN UTILIZED 4. The treatment plan does not meet the clinical criteria (which is established based on the patient's age) for coverage of general anesthesia or sedation. Benefits are based on the use of a Preferred Contracted Dentist.\", 'PayerClaimID': '36343F13200', 'TotalAmount': '$351.20', 'ClaimStatus': '', 'RenderingProvider': 'DON REES BOREN', 'Payer': 'PO BOX 981572 EL PASO, TX  79998-1572', 'PayerName': 'Guardian', 'PayerAddress': 'PO BOX 981572', 'PayerCity': 'EL PASO', 'PayerState': 'TX', 'PayerZip': '79998-1572', 'Payee': 'UT BCDO SPECIALTY DENTAL SERVI 1275 E FORT UNION BLVD STE 100 MIDVALE, UT  84047-1890', 'PayeeName': 'UT BCDO SPECIALTY DENTAL SERVI', 'PayeeAddress': '1275 E FORT UNION BLVD STE 100', 'PayeeCity': 'MIDVALE', 'PayeeState': 'UT', 'PayeeZip': '84047-1890', 'Provider': 'DON REES BOREN', 'EFT_CheckDate': '05/12/2023', 'EFT_CheckNumber': '187857316', 'PaidByOtherInsurance': '$0.00', 'TotalBenefitPaid': '$ 241.20', 'PatientResp': '$105.80', 'TotalBenfitPayable': '$241.20', 'HigherAllowable': '$318.00', 'PPGridViewId': '', 'PPTransPayorListID': '', 'PayeeTaxID': '', 'PayerContact': '(800) 541-7846', 'PayerID': '', 'PaymentMethodCode': '', 'RecordID': '', 'RenderingProviderID': '', 'RecordId': 1}, {'SubscriberID': '', 'PatientName': 'ANDREW CASEY', 'Relationship': 'SON', 'ClaimId': '36347F13200', 'PatientAccount': '120320346', 'PlanNumber': '00581682', 'EmployeeName': 'ANDREW CASEY', 'PlanHolder': 'GOENGINEER, INC.', 'TransactionFee': '', 'url': '', 'Notes': 'AN AETNA DENTAL ACCESS PARTICIPATING DENTIST HAS BEEN UTILIZED 6. The dental plan covers bitewing radiographic images only once in any 12 consecutive month period, up to a maximum of four films or a set of 7-8 vertical films, in one visit. Benefits are based on the use of a Preferred Contracted Dentist. You have used   $0.00 of your personal Maximum Rollover Account.  $700.00 remains in your account', 'PayerClaimID': '36347F13200', 'TotalAmount': '$351.20', 'ClaimStatus': '', 'RenderingProvider': 'DON REES BOREN', 'Payer': 'PO BOX 981572 EL PASO, TX  79998-1572', 'PayerName': 'Guardian', 'PayerAddress': 'PO BOX 981572', 'PayerCity': 'EL PASO', 'PayerState': 'TX', 'PayerZip': '79998-1572', 'Payee': 'UT BCDO SPECIALTY DENTAL SERVI 1275 E FORT UNION BLVD STE 100 MIDVALE, UT  84047-1890', 'PayeeName': 'UT BCDO SPECIALTY DENTAL SERVI', 'PayeeAddress': '1275 E FORT UNION BLVD STE 100', 'PayeeCity': 'MIDVALE', 'PayeeState': 'UT', 'PayeeZip': '84047-1890', 'Provider': 'DON REES BOREN', 'EFT_CheckDate': '05/12/2023', 'EFT_CheckNumber': '187857316', 'PaidByOtherInsurance': '$0.00', 'TotalBenefitPaid': '$ 110.00', 'PatientResp': '$30.00', 'TotalBenfitPayable': '$110.00', 'HigherAllowable': '$110.00', 'PPGridViewId': '', 'PPTransPayorListID': '', 'PayeeTaxID': '', 'PayerContact': '(800) 541-7846', 'PayerID': '', 'PaymentMethodCode': '', 'RecordID': '', 'RenderingProviderID': '', 'RecordId': 2}], 'PpEobClaimDetail': [{'SubmittedADACodesDescription': '1 D2392/Pst Composite2', 'AltCode': '', 'ToothNo': 'T', 'DateOfService': '05/09/23', 'SubmittedCharge': '152.00', 'ConsideredCharge': '100.00', 'CoveredCharge': '100.00', 'DeductibleAmount': '', 'CoveragePercent': '50.00', 'BenefitAmount': '90%', 'PatientResp': '', 'Adjustments': '', 'RecordId': 1}, {'SubmittedADACodesDescription': '2 D7140/Extraction', 'AltCode': '', 'ToothNo': 'S', 'DateOfService': '05/09/23', 'SubmittedCharge': '119.00', 'ConsideredCharge': '69.00', 'CoveredCharge': '69.00', 'DeductibleAmount': '', 'CoveragePercent': '90%', 'BenefitAmount': '62.10', 'PatientResp': '', 'Adjustments': '', 'RecordId': 2}, {'SubmittedADACodesDescription': '3 D1510/Space Maintain', 'AltCode': '', 'ToothNo': 'LR', 'DateOfService': '05/09/23', 'SubmittedCharge': '228.00', 'ConsideredCharge': '149.00', 'CoveredCharge': '149.00', 'DeductibleAmount': '', 'CoveragePercent': '90%', 'BenefitAmount': '134.10', 'PatientResp': '', 'Adjustments': ''}, {'SubmittedADACodesDescription': '4 D9230/Analgesia/N20', 'AltCode': '', 'ToothNo': 'FM', 'DateOfService': '05/09/23', 'SubmittedCharge': '30.00', 'ConsideredCharge': '29.00', 'CoveredCharge': '0.00', 'DeductibleAmount': '', 'CoveragePercent': '90%', 'BenefitAmount': '0.00', 'PatientResp': '', 'Adjustments': ''}, {'SubmittedADACodesDescription': '1 D0120/Periodic Eval', 'AltCode': '', 'ToothNo': 'FM', 'DateOfService': '05/10/23', 'SubmittedCharge': '39.00', 'ConsideredCharge': '27.00', 'CoveredCharge': '27.00', 'DeductibleAmount': '', 'CoveragePercent': '100%', 'BenefitAmount': '27.00', 'PatientResp': '', 'Adjustments': ''}, {'SubmittedADACodesDescription': '2 D0240/Occlusal Image', 'AltCode': '', 'ToothNo': 'FM', 'DateOfService': '05/10/23', 'SubmittedCharge': '27.00', 'ConsideredCharge': '14.00', 'CoveredCharge': '14.00', 'DeductibleAmount': '', 'CoveragePercent': '100%', 'BenefitAmount': '14.00', 'PatientResp': '', 'Adjustments': ''}, {'SubmittedADACodesDescription': '3 D0240/Occlusal Image', 'AltCode': '', 'ToothNo': 'FM', 'DateOfService': '05/10/23', 'SubmittedCharge': '27.00', 'ConsideredCharge': '14.00', 'CoveredCharge': '14.00', 'DeductibleAmount': '', 'CoveragePercent': '100%', 'BenefitAmount': '14.00', 'PatientResp': '', 'Adjustments': ''}, {'SubmittedADACodesDescription': '4 D1120/Child Cleaning', 'AltCode': '', 'ToothNo': 'FM', 'DateOfService': '05/10/23', 'SubmittedCharge': '52.00', 'ConsideredCharge': '39.00', 'CoveredCharge': '39.00', 'DeductibleAmount': '', 'CoveragePercent': '100%', 'BenefitAmount': '39.00', 'PatientResp': '', 'Adjustments': ''}, {'SubmittedADACodesDescription': '5 D1206/Fluoride Varn', 'AltCode': '', 'ToothNo': 'FM', 'DateOfService': '05/10/23', 'SubmittedCharge': '36.00', 'ConsideredCharge': '16.00', 'CoveredCharge': '16.00', 'DeductibleAmount': '', 'CoveragePercent': '100%', 'BenefitAmount': '16.00', 'PatientResp': '', 'Adjustments': ''}, {'SubmittedADACodesDescription': '6 D0274/Bitewing - 4', 'AltCode': '', 'ToothNo': 'FM', 'DateOfService': '05/10/23', 'SubmittedCharge': '52.00', 'ConsideredCharge': '30.00', 'CoveredCharge': '0.00', 'DeductibleAmount': '', 'CoveragePercent': '100%', 'BenefitAmount': '0.00', 'PatientResp': '', 'Adjustments': ''}]}\n"
     ]
    }
   ],
   "source": [
    "with open(file_path) as file:\n",
    "    json_data = json.load(file)\n",
    "print(json_data)    \n",
    "\n",
    "# for item in json_data:\n",
    "#     print(item['name'])\n",
    "#     print(item['age'])\n",
    "#     print(item['city'])\n",
    "#     print('---')"
   ]
  },
  {
   "cell_type": "code",
   "execution_count": 12,
   "id": "51948711",
   "metadata": {},
   "outputs": [
    {
     "data": {
      "text/plain": [
       "dict_keys(['SubscriberID', 'ProviderClaimId', 'PayerClaimId', 'MemberNo', 'RenderingProviderFirstName', 'RenderingProviderLastName', 'PatientName', 'PlanType', 'PlanNumber', 'RenderingProviderID', 'PayerPaid', 'RecordID', 'PPTransPayorListID', 'ClientId', 'EligibilityVerificationId', 'RecordId'])"
      ]
     },
     "execution_count": 12,
     "metadata": {},
     "output_type": "execute_result"
    },
    {
     "data": {
      "text/plain": [
       "dict_keys(['SubscriberID', 'ProviderClaimId', 'PayerClaimId', 'MemberNo', 'RenderingProviderFirstName', 'RenderingProviderLastName', 'PatientName', 'PlanType', 'PlanNumber', 'RenderingProviderID', 'PayerPaid', 'RecordID', 'PPTransPayorListID', 'ClientId', 'EligibilityVerificationId', 'RecordId'])"
      ]
     },
     "execution_count": 12,
     "metadata": {},
     "output_type": "execute_result"
    }
   ],
   "source": [
    "eftpatientsoutput = json_data['EFTPatients'][0].keys()\n",
    "a"
   ]
  },
  {
   "cell_type": "code",
   "execution_count": null,
   "id": "fb9dbe36",
   "metadata": {},
   "outputs": [],
   "source": []
  }
 ],
 "metadata": {
  "kernelspec": {
   "display_name": "Python 3 (ipykernel)",
   "language": "python",
   "name": "python3"
  },
  "language_info": {
   "codemirror_mode": {
    "name": "ipython",
    "version": 3
   },
   "file_extension": ".py",
   "mimetype": "text/x-python",
   "name": "python",
   "nbconvert_exporter": "python",
   "pygments_lexer": "ipython3",
   "version": "3.10.5"
  }
 },
 "nbformat": 4,
 "nbformat_minor": 5
}
