{
 "cells": [
  {
   "cell_type": "code",
   "execution_count": 1,
   "id": "f9642582",
   "metadata": {},
   "outputs": [],
   "source": [
    "import fitz\n",
    "\n",
    "file_path = 'SZN67RA4OH.pdf' "
   ]
  },
  {
   "cell_type": "code",
   "execution_count": 2,
   "id": "9b71d839",
   "metadata": {},
   "outputs": [],
   "source": [
    "with fitz.open(file_path) as pdf:\n",
    "    texts = ''\n",
    "    for page_number in range(pdf.page_count):\n",
    "        page = pdf.load_page(page_number)\n",
    "        text = page.get_text()\n",
    "        texts = texts+' '+text"
   ]
  },
  {
   "cell_type": "code",
   "execution_count": 3,
   "id": "32f339b9",
   "metadata": {},
   "outputs": [
    {
     "data": {
      "text/plain": [
       "\" General Group Information\\nGroup Name:\\nCHARTER COMM, INC. - \\nACTIVE EMPLOYEES - EP \\nMissing tooth clause does not \\napply\\nGroup Number:\\n22562000\\nProgram Type:\\nDelta Dental (PPO)\\nBenefit Cycle:\\nCalendar Year 01/01\\nCOB Type:\\nProcessed with a non-duplication \\nof benefits provision\\nHealthy Smiles Healthy Lives \\nProgram:\\nYes\\nAge Limits\\nDependent Children Covered:\\n26 End of Month\\nFull Time Students Covered:\\n26\\nQualifying Children Covered:\\nN\\nOrthodontic Age Limit:\\nFor confirmation of \\nOrthodontic age limit, \\nplease contact our \\nCustomer Service \\nDepartment at \\n866.991.7345\\nOther Information Where Applicable\\nSpecial Group Comments\\nNone\\nName\\nRelationship\\nDate Of Birth\\nEnrollment \\nEffective Date\\nWaiting Period \\nEnd Date\\nEligible\\nSTAGE, BRANDEN\\nSubscriber\\n05/18\\n01/01/2021\\n01/01/2021\\nYes\\nSTAGE, AMBER\\nSpouse\\n04/24\\n01/01/2021\\n01/01/2021\\nYes\\nSTAGE, MASON\\nChild\\n08/16\\n01/01/2021\\n01/01/2021\\nYes\\nSTAGE, IVYANNE\\nChild\\n10/20\\n01/01/2021\\n01/01/2021\\nYes\\nCurrent Eligible Members\\nSUBSCRIBER BENEFIT REPORT\\nImportant: This list is not meant to be all-inclusive. It lists the most frequently used procedures that are covered by\\nthis Plan. If a procedure is not listed, but you think it may be covered, please contact Delta Dental Customer Service\\nor file a Predetermination. All claims submitted are subject to Delta Dental's standard processing policies and\\nreviews. Delta Dental has unique participating agreements with practicing dentists nationwide. Optimum benefits are\\nreceived when services are rendered by a participating dentist. Procedures may be subject to review.\\nMaximums, Deductibles and Typical Coverage Levels for this Plan\\nDelta Dental of Missouri\\nMailing Address:\\nPO Box 8690, St. Louis, MO 63126\\nCustomer Service:\\n1.800.335.8266    314.656.3000\\nPrint Date:\\n7/10/2023\\nElectronic Payer ID:\\nMO 43090  SC 43091\\nFax:\\n314.656.2900\\nThis document is provided for your CONVENIENCE ONLY. This document reflects current data. Information is subject to\\nchange. Benefits described in this document are NOT a guarantee of payment. As actual benefit payments are\\ndetermined only when a claim is received, eligibility is not a guarantee of coverage. Refer to the employee Summary Plan\\nDescription for a complete listing of benefits and limitations.\\nPage 1 of 5\\n Individual Maximums - Per Benefit Period\\nFamily Maximums - Per Benefit Period\\nIndividual PPO \\nNetwork\\nIndividual Premier \\nNetwork\\nIndividual Non Par\\nIndividual PPO \\nNetwork Lifetime\\nIndividual Premier \\nNetwork Lifetime\\nIndividual Non Par \\nLifetime\\nRegular\\n$3,000.00\\n$3,000.00\\n$3,000.00\\n$0.00\\n$0.00\\n$0.00\\nOrthodontic\\n$0.00\\n$0.00\\n$0.00\\n$2,000.00\\n$2,000.00\\n$2,000.00\\nTMJ\\n$0.00\\n$0.00\\n$0.00\\n$0.00\\n$0.00\\n$0.00\\nPeriodontic\\nShared\\nShared\\nShared\\n$0.00\\n$0.00\\n$0.00\\nFamily PPO \\nNetwork\\nFamily Premier \\nNetwork\\nFamily Non Par\\nFamily PPO \\nNetwork Lifetime\\nFamily Premier \\nNetwork Lifetime\\nFamily Non Par \\nLifetime\\nRegular\\n$0.00\\n$0.00\\n$0.00\\n$0.00\\n$0.00\\n$0.00\\nOrthodontic\\n$0.00\\n$0.00\\n$0.00\\n$0.00\\n$0.00\\n$0.00\\nTMJ\\n$0.00\\n$0.00\\n$0.00\\n$0.00\\n$0.00\\n$0.00\\nPeriodontic\\n$0.00\\n$0.00\\n$0.00\\n$0.00\\n$0.00\\n$0.00\\nIndividual Deductibles - Per Benefit Period\\nFamily Deductibles - Per Benefit Period\\nIndividual PPO \\nNetwork\\nIndividual Premier \\nNetwork\\nIndividual Non Par\\nIndividual PPO \\nNetwork Lifetime\\nIndividual Premier \\nNetwork Lifetime\\nIndividual Non Par \\nLifetime\\nRegular\\n$50.00\\n$50.00\\n$50.00\\n$0.00\\n$0.00\\n$0.00\\nOrthodontic\\nShared\\nShared\\nShared\\n$0.00\\n$0.00\\n$0.00\\nTMJ\\n$0.00\\n$0.00\\n$0.00\\n$0.00\\n$0.00\\n$0.00\\nPeriodontic\\nShared\\nShared\\nShared\\n$0.00\\n$0.00\\n$0.00\\nFamily PPO \\nNetwork\\nFamily Premier \\nNetwork\\nFamily Non Par\\nFamily PPO \\nNetwork Lifetime\\nFamily Premier \\nNetwork Lifetime\\nFamily Non Par \\nLifetime\\nRegular\\n$150.00\\n$150.00\\n$150.00\\n$0.00\\n$0.00\\n$0.00\\nOrthodontic\\nShared\\nShared\\nShared\\n$0.00\\n$0.00\\n$0.00\\nTMJ\\n$0.00\\n$0.00\\n$0.00\\n$0.00\\n$0.00\\n$0.00\\nPeriodontic\\nShared\\nShared\\nShared\\n$0.00\\n$0.00\\n$0.00\\nTypical Coverage Levels\\nProcedure\\nDelta Dental PPO\\nDelta Dental \\nPremier\\nNon Par Dentist\\nFrequency if \\nApplicable\\nAge Limit if \\nApplicable\\nLimitations / Notes \\nif Applicable - See \\nCode List\\nPeriodic Exams\\n100%\\n100%\\n80%\\n2 per Calendar \\nYear\\n1\\nFull-Mouth X-Rays\\n100%\\n100%\\n80%\\n1 every 36 \\nMonths from the \\nlast date of \\nservice of the \\nsame treatment\\n1\\nBite-Wing X-Rays\\n100%\\n100%\\n80%\\n1\\nCleanings - Adult\\n100%\\n100%\\n80%\\n2 per Calendar \\nYear\\n14+\\n1\\nCleanings - Child\\n100%\\n100%\\n80%\\n2 per Calendar \\nYear\\n0 to 13\\n1\\nFluoride\\n100%\\n100%\\n80%\\n1 per Calendar \\nYear\\n0 to 18\\n1\\nPage 2 of 5\\n Sealants\\n80%\\n80%\\n70%\\n1 every 60 \\nMonths from the \\nlast date of \\nservice of the \\nsame treatment\\n0 to 18\\n3\\nSpace Maintainer\\n100%\\n100%\\n80%\\n1 every 60 \\nMonths from the \\nlast date of \\nservice of the \\nsame treatment\\n0 to 15\\n1\\nAmalgam\\n80%\\n80%\\n70%\\n1 every 24 \\nMonths from the \\nlast date of \\nservice of the \\nsame treatment\\nComposite/Resin\\n80%\\n80%\\n70%\\n1 every 24 \\nMonths from the \\nlast date of \\nservice of the \\nsame treatment\\n4\\nRoot Canals (submit \\non completion date)\\n80%\\n80%\\n70%\\nPerio Root Planing\\n80%\\n80%\\n70%\\nSurgical Perio\\n80%\\n80%\\n70%\\nPeriodontal \\nMaintenance \\n(Following active \\ntherapy. May be \\ncombined with \\nroutine cleaning \\nfrequency.)\\n100%\\n100%\\n80%\\n2 per Calendar \\nYear\\n1\\nSimple Extractions\\n80%\\n80%\\n70%\\nSurgical Extractions \\nImpacted Teeth\\n80%\\n80%\\n70%\\nCrowns (submit on \\nseat date)\\n50%\\n50%\\n40%\\n1 every 60 \\nMonths from the \\nlast date of \\nservice of the \\nsame treatment\\n12+\\nBridges (submit on \\nseat date) - I\\n50%\\n50%\\n40%\\n1 every 60 \\nMonths from the \\nlast date of \\nservice of the \\nsame treatment\\n16+\\n20\\nBridges (submit on \\nseat date) - R\\n50%\\n50%\\n40%\\n1 every 60 \\nMonths from the \\nlast date of \\nservice of the \\nsame treatment\\n16+\\n20\\nPartials/Dentures \\n(submit on seat date) \\n- I\\n50%\\n50%\\n40%\\n1 every 60 \\nMonths from the \\nlast date of \\nservice of the \\nsame treatment\\n16+\\nPartials/Dentures \\n(submit on seat date) \\n- R\\n50%\\n50%\\n40%\\n1 every 60 \\nMonths from the \\nlast date of \\nservice of the \\nsame treatment\\n16+\\nOrthodontics\\n50%\\n50%\\n40%\\n13\\nNon Surgical TMJ\\n0%\\n0%\\n0%\\nSurgical TMJ\\n0%\\n0%\\n0%\\nPage 3 of 5\\n General Anesthesia\\n80%\\n80%\\n70%\\n11\\nOcclusal Guard By \\nReport\\n0%\\n0%\\n0%\\nImplants\\n50%\\n50%\\n40%\\n1 every 60 \\nMonths from the \\nlast date of \\nservice of the \\nsame treatment\\n16+\\n20\\nImplant Crowns\\n50%\\n50%\\n40%\\n1 every 60 \\nMonths from the \\nlast date of \\nservice of the \\nsame treatment\\n16+\\n20\\n1.Limitation Code List\\nDeductible Exempt.\\n3.\\nOn first and second permanent caries free molars only.\\n5.\\nOn posterior teeth only.\\n7.\\n12 month waiting period on replacements.\\n9.\\n6 month waiting period.\\n11.\\nBenefits for extraction and surgical procedures.\\n13.\\nPayment method is quarterly.\\n15.\\n(MaxAdvantage) Will not be deducted from annual \\nmaximum.\\n17.\\n3 month waiting period.\\n19.\\nMedically Necessary.\\n21.\\nMissing Tooth Clause Applies.\\n2.\\nCondition Form on file for this member, 4 cleanings \\nallowed per benefit period. (Healthy Smiles Healthy Lives)\\n4.\\nCovered as amalgam on molars.\\n6.\\n6 month waiting period on replacements.\\n8.\\n24 month waiting period on replacements.\\n10.\\n12 month waiting period.\\n12.\\nPayment method is annual.\\n14.\\nPayment method is semi - annual.\\n16.\\n3 month waiting period on replacements.\\n18.\\n24 month waiting period.\\n20.\\nAlternate Benefit May Be Provided.\\nIndividual Annual/Lifetime Maximum and Deductible Status\\nIndividual Annual \\nDeductible Met \\nPPO Network\\nIndividual Annual \\nDeductible Met \\nPremier Network\\nIndividual Annual \\nDeductible Met \\nNon Par\\nIndividual Annual \\nMaximum Met \\nPPO Network\\nIndividual Annual \\nMaximum Met \\nPremier Network\\nIndividual Annual \\nMaximum Met Non \\nPar\\nRegular\\n$50.00\\n$50.00\\n$50.00\\n$428.60\\n$428.60\\n$428.60\\nOrthodontic\\n$0.00\\n$0.00\\n$0.00\\n$0.00\\n$0.00\\n$0.00\\nTMJ\\n$0.00\\n$0.00\\n$0.00\\n$0.00\\n$0.00\\n$0.00\\nPeriodontic\\n$0.00\\n$0.00\\n$0.00\\n$0.00\\n$0.00\\n$0.00\\nIndividual Lifetime Maximum Met PPO \\nNetwork\\nIndividual Lifetime Maximum Met \\nPremier Network\\nIndividual Lifetime Maximum Met Non \\nPar\\nRegular\\n$0.00\\n$0.00\\n$0.00\\nOrthodontic\\n$0.00\\n$0.00\\n$0.00\\nTMJ\\n$0.00\\n$0.00\\n$0.00\\nPeriodontic\\n$0.00\\n$0.00\\n$0.00\\nAnnual Maximum and Deductible Status\\nLifetime Maximum Status\\nSTAGE, MASON\\nSelected Member:\\nPage 4 of 5\\n Patient History (Prior Seven Years Only)\\nDate of \\nService\\nTooth\\nSurface\\nProcedure\\nDescription\\n06/21/2023\\nJ\\nMO\\nD2150\\nAmalgam - Two Surfaces, Primary Or Permanent\\n04/24/2023\\nK\\nD2930\\nPrefabricated Stainless Steel Crown - Primary Tooth\\n04/24/2023\\nL\\nD2930\\nPrefabricated Stainless Steel Crown - Primary Tooth\\n02/13/2023\\n00\\nD0120\\nPeriodic Oral Evaluation - Established Patient\\n02/13/2023\\n00\\nD1120\\nProphylaxis - Child\\n02/13/2023\\n00\\nD0272\\nBitewings - Two Radiographic Images\\n02/13/2023\\n00\\nD1206\\nTopical Application Of Fluoride Varnish\\n02/13/2023\\n00\\nD0220\\nIntraoral - Periapical First Radiographic Image\\n09/28/2022\\nT\\nBDO\\nD2160\\nAmalgam - Three Surfaces, Primary Or Permanent\\n09/28/2022\\n30\\nO\\nD2140\\nAmalgam - One Surface, Primary Or Permanent\\n09/14/2022\\n3\\nDO\\nD2150\\nAmalgam - Two Surfaces, Primary Or Permanent\\n08/08/2022\\n00\\nD0272\\nBitewings - Two Radiographic Images\\n08/08/2022\\n00\\nD1120\\nProphylaxis - Child\\n08/08/2022\\n00\\nD0120\\nPeriodic Oral Evaluation - Established Patient\\n03/21/2022\\nS \\nD3220\\nTherapeutic Pulpotomy\\n03/21/2022\\nS \\nD2930\\nPrefabricated Stainless Steel Crown - Primary Tooth\\n02/09/2022\\n00\\nD0120\\nPeriodic Oral Evaluation - Established Patient\\n02/09/2022\\n00\\nD1120\\nProphylaxis - Child\\n02/09/2022\\n00\\nD0272\\nBitewings - Two Radiographic Images\\n02/09/2022\\n00\\nD1206\\nTopical Application Of Fluoride Varnish\\n02/09/2022\\n00\\nD0220\\nIntraoral - Periapical First Radiographic Image\\n08/17/2021\\nI \\nDO\\nD2150\\nAmalgam - Two Surfaces, Primary Or Permanent\\n08/17/2021\\nK \\nBO\\nD2150\\nAmalgam - Two Surfaces, Primary Or Permanent\\n07/14/2021\\n00\\nD0120\\nPeriodic Oral Evaluation - Established Patient\\n07/14/2021\\n00\\nD1120\\nProphylaxis - Child\\n07/14/2021\\n00\\nD0272\\nBitewings - Two Radiographic Images\\n07/14/2021\\n00\\nD1206\\nTopical Application Of Fluoride Varnish\\n12/03/2018\\nS \\nDO\\nD2150\\nAmalgam - Two Surfaces, Primary Or Permanent\\n10/23/2018\\n00\\nD0120\\nPeriodic Oral Evaluation - Established Patient\\n10/23/2018\\n00\\nD1120\\nProphylaxis - Child\\n10/23/2018\\n00\\nD0272\\nBitewings - Two Radiographic Images\\n10/23/2018\\n00\\nD1206\\nTopical Application Of Fluoride Varnish\\nHistory for \\nSTAGE, MASON\\nPage 5 of 5\\n\""
      ]
     },
     "execution_count": 3,
     "metadata": {},
     "output_type": "execute_result"
    }
   ],
   "source": [
    "texts"
   ]
  },
  {
   "cell_type": "code",
   "execution_count": null,
   "id": "b3445bf6",
   "metadata": {},
   "outputs": [],
   "source": []
  }
 ],
 "metadata": {
  "kernelspec": {
   "display_name": "Python 3 (ipykernel)",
   "language": "python",
   "name": "python3"
  },
  "language_info": {
   "codemirror_mode": {
    "name": "ipython",
    "version": 3
   },
   "file_extension": ".py",
   "mimetype": "text/x-python",
   "name": "python",
   "nbconvert_exporter": "python",
   "pygments_lexer": "ipython3",
   "version": "3.10.5"
  }
 },
 "nbformat": 4,
 "nbformat_minor": 5
}
