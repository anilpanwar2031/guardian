{
 "cells": [
  {
   "cell_type": "code",
   "execution_count": 1,
   "id": "d143302a",
   "metadata": {},
   "outputs": [],
   "source": [
    "import tabula\n",
    "from tabula import read_pdf"
   ]
  },
  {
   "cell_type": "code",
   "execution_count": 2,
   "id": "e6e3a31d",
   "metadata": {},
   "outputs": [
    {
     "name": "stderr",
     "output_type": "stream",
     "text": [
      "Got stderr: Jun 05, 2023 11:31:57 AM org.apache.pdfbox.pdmodel.font.PDSimpleFont readEncoding\n",
      "WARNING: Unknown encoding: BuiltIn\n",
      "Jun 05, 2023 11:31:57 AM org.apache.pdfbox.pdmodel.font.PDSimpleFont readEncoding\n",
      "WARNING: Unknown encoding: BuiltIn\n",
      "Jun 05, 2023 11:31:57 AM org.apache.pdfbox.pdmodel.font.PDSimpleFont readEncoding\n",
      "WARNING: Unknown encoding: BuiltIn\n",
      "Jun 05, 2023 11:31:57 AM org.apache.pdfbox.pdmodel.font.PDSimpleFont readEncoding\n",
      "WARNING: Unknown encoding: BuiltIn\n",
      "Jun 05, 2023 11:31:57 AM org.apache.pdfbox.pdmodel.font.PDSimpleFont readEncoding\n",
      "WARNING: Unknown encoding: BuiltIn\n",
      "Jun 05, 2023 11:31:57 AM org.apache.pdfbox.pdmodel.font.PDSimpleFont readEncoding\n",
      "WARNING: Unknown encoding: BuiltIn\n",
      "Jun 05, 2023 11:31:57 AM org.apache.pdfbox.pdmodel.font.PDSimpleFont readEncoding\n",
      "WARNING: Unknown encoding: BuiltIn\n",
      "Jun 05, 2023 11:31:57 AM org.apache.pdfbox.pdmodel.font.PDSimpleFont readEncoding\n",
      "WARNING: Unknown encoding: BuiltIn\n",
      "Jun 05, 2023 11:31:57 AM org.apache.pdfbox.pdmodel.font.PDSimpleFont readEncoding\n",
      "WARNING: Unknown encoding: BuiltIn\n",
      "Jun 05, 2023 11:31:57 AM org.apache.pdfbox.pdmodel.font.PDSimpleFont readEncoding\n",
      "WARNING: Unknown encoding: BuiltIn\n",
      "Jun 05, 2023 11:31:57 AM org.apache.pdfbox.pdmodel.font.PDSimpleFont readEncoding\n",
      "WARNING: Unknown encoding: BuiltIn\n",
      "Jun 05, 2023 11:31:57 AM org.apache.pdfbox.pdmodel.font.PDSimpleFont readEncoding\n",
      "WARNING: Unknown encoding: BuiltIn\n",
      "Jun 05, 2023 11:31:57 AM org.apache.pdfbox.pdmodel.font.PDSimpleFont readEncoding\n",
      "WARNING: Unknown encoding: BuiltIn\n",
      "Jun 05, 2023 11:31:57 AM org.apache.pdfbox.pdmodel.font.PDSimpleFont readEncoding\n",
      "WARNING: Unknown encoding: BuiltIn\n",
      "Jun 05, 2023 11:31:57 AM org.apache.pdfbox.pdmodel.font.PDSimpleFont readEncoding\n",
      "WARNING: Unknown encoding: BuiltIn\n",
      "Jun 05, 2023 11:31:57 AM org.apache.pdfbox.pdmodel.font.PDSimpleFont readEncoding\n",
      "WARNING: Unknown encoding: BuiltIn\n",
      "Jun 05, 2023 11:31:57 AM org.apache.pdfbox.pdmodel.font.PDSimpleFont readEncoding\n",
      "WARNING: Unknown encoding: BuiltIn\n",
      "Jun 05, 2023 11:31:57 AM org.apache.pdfbox.pdmodel.font.PDSimpleFont readEncoding\n",
      "WARNING: Unknown encoding: BuiltIn\n",
      "Jun 05, 2023 11:31:57 AM org.apache.pdfbox.pdmodel.font.PDSimpleFont readEncoding\n",
      "WARNING: Unknown encoding: BuiltIn\n",
      "Jun 05, 2023 11:31:57 AM org.apache.pdfbox.pdmodel.font.PDSimpleFont readEncoding\n",
      "WARNING: Unknown encoding: BuiltIn\n",
      "Jun 05, 2023 11:31:58 AM org.apache.pdfbox.pdmodel.font.PDSimpleFont readEncoding\n",
      "WARNING: Unknown encoding: BuiltIn\n",
      "Jun 05, 2023 11:31:58 AM org.apache.pdfbox.pdmodel.font.PDSimpleFont readEncoding\n",
      "WARNING: Unknown encoding: BuiltIn\n",
      "Jun 05, 2023 11:31:58 AM org.apache.pdfbox.pdmodel.font.PDSimpleFont readEncoding\n",
      "WARNING: Unknown encoding: BuiltIn\n",
      "Jun 05, 2023 11:31:58 AM org.apache.pdfbox.pdmodel.font.PDSimpleFont readEncoding\n",
      "WARNING: Unknown encoding: BuiltIn\n",
      "\n",
      "Got stderr: Jun 05, 2023 11:31:57 AM org.apache.pdfbox.pdmodel.font.PDSimpleFont readEncoding\n",
      "WARNING: Unknown encoding: BuiltIn\n",
      "Jun 05, 2023 11:31:57 AM org.apache.pdfbox.pdmodel.font.PDSimpleFont readEncoding\n",
      "WARNING: Unknown encoding: BuiltIn\n",
      "Jun 05, 2023 11:31:57 AM org.apache.pdfbox.pdmodel.font.PDSimpleFont readEncoding\n",
      "WARNING: Unknown encoding: BuiltIn\n",
      "Jun 05, 2023 11:31:57 AM org.apache.pdfbox.pdmodel.font.PDSimpleFont readEncoding\n",
      "WARNING: Unknown encoding: BuiltIn\n",
      "Jun 05, 2023 11:31:57 AM org.apache.pdfbox.pdmodel.font.PDSimpleFont readEncoding\n",
      "WARNING: Unknown encoding: BuiltIn\n",
      "Jun 05, 2023 11:31:57 AM org.apache.pdfbox.pdmodel.font.PDSimpleFont readEncoding\n",
      "WARNING: Unknown encoding: BuiltIn\n",
      "Jun 05, 2023 11:31:57 AM org.apache.pdfbox.pdmodel.font.PDSimpleFont readEncoding\n",
      "WARNING: Unknown encoding: BuiltIn\n",
      "Jun 05, 2023 11:31:57 AM org.apache.pdfbox.pdmodel.font.PDSimpleFont readEncoding\n",
      "WARNING: Unknown encoding: BuiltIn\n",
      "Jun 05, 2023 11:31:57 AM org.apache.pdfbox.pdmodel.font.PDSimpleFont readEncoding\n",
      "WARNING: Unknown encoding: BuiltIn\n",
      "Jun 05, 2023 11:31:57 AM org.apache.pdfbox.pdmodel.font.PDSimpleFont readEncoding\n",
      "WARNING: Unknown encoding: BuiltIn\n",
      "Jun 05, 2023 11:31:57 AM org.apache.pdfbox.pdmodel.font.PDSimpleFont readEncoding\n",
      "WARNING: Unknown encoding: BuiltIn\n",
      "Jun 05, 2023 11:31:57 AM org.apache.pdfbox.pdmodel.font.PDSimpleFont readEncoding\n",
      "WARNING: Unknown encoding: BuiltIn\n",
      "Jun 05, 2023 11:31:57 AM org.apache.pdfbox.pdmodel.font.PDSimpleFont readEncoding\n",
      "WARNING: Unknown encoding: BuiltIn\n",
      "Jun 05, 2023 11:31:57 AM org.apache.pdfbox.pdmodel.font.PDSimpleFont readEncoding\n",
      "WARNING: Unknown encoding: BuiltIn\n",
      "Jun 05, 2023 11:31:57 AM org.apache.pdfbox.pdmodel.font.PDSimpleFont readEncoding\n",
      "WARNING: Unknown encoding: BuiltIn\n",
      "Jun 05, 2023 11:31:57 AM org.apache.pdfbox.pdmodel.font.PDSimpleFont readEncoding\n",
      "WARNING: Unknown encoding: BuiltIn\n",
      "Jun 05, 2023 11:31:57 AM org.apache.pdfbox.pdmodel.font.PDSimpleFont readEncoding\n",
      "WARNING: Unknown encoding: BuiltIn\n",
      "Jun 05, 2023 11:31:57 AM org.apache.pdfbox.pdmodel.font.PDSimpleFont readEncoding\n",
      "WARNING: Unknown encoding: BuiltIn\n",
      "Jun 05, 2023 11:31:57 AM org.apache.pdfbox.pdmodel.font.PDSimpleFont readEncoding\n",
      "WARNING: Unknown encoding: BuiltIn\n",
      "Jun 05, 2023 11:31:57 AM org.apache.pdfbox.pdmodel.font.PDSimpleFont readEncoding\n",
      "WARNING: Unknown encoding: BuiltIn\n",
      "Jun 05, 2023 11:31:58 AM org.apache.pdfbox.pdmodel.font.PDSimpleFont readEncoding\n",
      "WARNING: Unknown encoding: BuiltIn\n",
      "Jun 05, 2023 11:31:58 AM org.apache.pdfbox.pdmodel.font.PDSimpleFont readEncoding\n",
      "WARNING: Unknown encoding: BuiltIn\n",
      "Jun 05, 2023 11:31:58 AM org.apache.pdfbox.pdmodel.font.PDSimpleFont readEncoding\n",
      "WARNING: Unknown encoding: BuiltIn\n",
      "Jun 05, 2023 11:31:58 AM org.apache.pdfbox.pdmodel.font.PDSimpleFont readEncoding\n",
      "WARNING: Unknown encoding: BuiltIn\n",
      "\n"
     ]
    }
   ],
   "source": [
    "file_path = 'C:\\\\guardian\\\\SD%20Payor%20Scraping\\\\guardian11.pdf'\n",
    "dict_list = tabula.read_pdf(file_path, pages='all')\n"
   ]
  },
  {
   "cell_type": "code",
   "execution_count": 3,
   "id": "a7725714",
   "metadata": {},
   "outputs": [
    {
     "name": "stdout",
     "output_type": "stream",
     "text": [
      "2\n",
      "2\n"
     ]
    },
    {
     "data": {
      "text/plain": [
       "[      Patient Name: HARPER L NEWTON Unnamed: 0  \\\n",
       " 0  Planholder: GDH CONSULTING, INC.        NaN   \n",
       " 1                    Line Submitted  Alt Tooth   \n",
       " 2         No. ADA Codes/Description   Code No.   \n",
       " 3            1 D1110/Adult Cleaning         FM   \n",
       " 4             2 D0120/Periodic Eval         FM   \n",
       " 5             3 D1206/Fluoride Varn         FM   \n",
       " 6                               NaN        NaN   \n",
       " \n",
       "   Employee Name: MICHELLE N BERMAN          Unnamed: 1        Relationship:  \\\n",
       " 0                              NaN                 NaN                  NaN   \n",
       " 1                Date of Submitted  Considered Covered  Deductible Coverage   \n",
       " 2                   Service Charge       Charge Charge       Amount Percent   \n",
       " 3                  02/21/23 138.00         69.00 69.00                 100%   \n",
       " 4                   02/21/23 75.00         34.00 34.00                 100%   \n",
       " 5                   02/21/23 67.00          56.95 0.00                 100%   \n",
       " 6                    TOTALS 280.00       159.95 103.00                 0.00   \n",
       " \n",
       "   DAUGHTER  \n",
       " 0      NaN  \n",
       " 1  Benefit  \n",
       " 2   Amount  \n",
       " 3    69.00  \n",
       " 4    34.00  \n",
       " 5     0.00  \n",
       " 6   103.00  ,\n",
       "        Patient Name: WILLA K NEWTON Unnamed: 0  \\\n",
       " 0  Planholder: GDH CONSULTING, INC.        NaN   \n",
       " 1                    Line Submitted  Alt Tooth   \n",
       " 2         No. ADA Codes/Description   Code No.   \n",
       " 3             1 D0120/Periodic Eval         FM   \n",
       " 4            2 D1120/Child Cleaning         FM   \n",
       " 5             3 D1206/Fluoride Varn         FM   \n",
       " 6                               NaN        NaN   \n",
       " \n",
       "   Employee Name: MICHELLE N BERMAN          Unnamed: 1        Relationship:  \\\n",
       " 0                              NaN                 NaN                  NaN   \n",
       " 1                Date of Submitted  Considered Covered  Deductible Coverage   \n",
       " 2                   Service Charge       Charge Charge       Amount Percent   \n",
       " 3                   02/21/23 75.00         34.00 34.00                 100%   \n",
       " 4                   02/21/23 96.00         49.00 49.00                 100%   \n",
       " 5                   02/21/23 67.00         56.95 56.95                 100%   \n",
       " 6                    TOTALS 238.00       139.95 139.95                 0.00   \n",
       " \n",
       "   DAUGHTER  \n",
       " 0      NaN  \n",
       " 1  Benefit  \n",
       " 2   Amount  \n",
       " 3    34.00  \n",
       " 4    49.00  \n",
       " 5    56.95  \n",
       " 6   139.95  ]"
      ]
     },
     "execution_count": 3,
     "metadata": {},
     "output_type": "execute_result"
    },
    {
     "data": {
      "text/plain": [
       "[      Patient Name: HARPER L NEWTON Unnamed: 0  \\\n",
       " 0  Planholder: GDH CONSULTING, INC.        NaN   \n",
       " 1                    Line Submitted  Alt Tooth   \n",
       " 2         No. ADA Codes/Description   Code No.   \n",
       " 3            1 D1110/Adult Cleaning         FM   \n",
       " 4             2 D0120/Periodic Eval         FM   \n",
       " 5             3 D1206/Fluoride Varn         FM   \n",
       " 6                               NaN        NaN   \n",
       " \n",
       "   Employee Name: MICHELLE N BERMAN          Unnamed: 1        Relationship:  \\\n",
       " 0                              NaN                 NaN                  NaN   \n",
       " 1                Date of Submitted  Considered Covered  Deductible Coverage   \n",
       " 2                   Service Charge       Charge Charge       Amount Percent   \n",
       " 3                  02/21/23 138.00         69.00 69.00                 100%   \n",
       " 4                   02/21/23 75.00         34.00 34.00                 100%   \n",
       " 5                   02/21/23 67.00          56.95 0.00                 100%   \n",
       " 6                    TOTALS 280.00       159.95 103.00                 0.00   \n",
       " \n",
       "   DAUGHTER  \n",
       " 0      NaN  \n",
       " 1  Benefit  \n",
       " 2   Amount  \n",
       " 3    69.00  \n",
       " 4    34.00  \n",
       " 5     0.00  \n",
       " 6   103.00  ,\n",
       "        Patient Name: WILLA K NEWTON Unnamed: 0  \\\n",
       " 0  Planholder: GDH CONSULTING, INC.        NaN   \n",
       " 1                    Line Submitted  Alt Tooth   \n",
       " 2         No. ADA Codes/Description   Code No.   \n",
       " 3             1 D0120/Periodic Eval         FM   \n",
       " 4            2 D1120/Child Cleaning         FM   \n",
       " 5             3 D1206/Fluoride Varn         FM   \n",
       " 6                               NaN        NaN   \n",
       " \n",
       "   Employee Name: MICHELLE N BERMAN          Unnamed: 1        Relationship:  \\\n",
       " 0                              NaN                 NaN                  NaN   \n",
       " 1                Date of Submitted  Considered Covered  Deductible Coverage   \n",
       " 2                   Service Charge       Charge Charge       Amount Percent   \n",
       " 3                   02/21/23 75.00         34.00 34.00                 100%   \n",
       " 4                   02/21/23 96.00         49.00 49.00                 100%   \n",
       " 5                   02/21/23 67.00         56.95 56.95                 100%   \n",
       " 6                    TOTALS 238.00       139.95 139.95                 0.00   \n",
       " \n",
       "   DAUGHTER  \n",
       " 0      NaN  \n",
       " 1  Benefit  \n",
       " 2   Amount  \n",
       " 3    34.00  \n",
       " 4    49.00  \n",
       " 5    56.95  \n",
       " 6   139.95  ]"
      ]
     },
     "execution_count": 3,
     "metadata": {},
     "output_type": "execute_result"
    }
   ],
   "source": [
    "print(len(dict_list))\n",
    "dict_list"
   ]
  },
  {
   "cell_type": "code",
   "execution_count": 4,
   "id": "8ed9a1d9",
   "metadata": {},
   "outputs": [
    {
     "data": {
      "text/plain": [
       "[]"
      ]
     },
     "execution_count": 4,
     "metadata": {},
     "output_type": "execute_result"
    },
    {
     "data": {
      "text/plain": [
       "[]"
      ]
     },
     "execution_count": 4,
     "metadata": {},
     "output_type": "execute_result"
    }
   ],
   "source": [
    "lst = []\n",
    "for ind, tab in enumerate(dict_list):\n",
    "    if any('Patient Account' in col for col in tab.columns):\n",
    "        new_columns_name = {}\n",
    "        for i in range(len(tab.columns)):\n",
    "            old_name = tab.columns[i]\n",
    "            new_name = f'columns{i + 1}'\n",
    "            new_columns_name[old_name] = new_name\n",
    "            tab = tab.rename(columns=new_columns_name)\n",
    "        lst.append(tab.to_dict('records'))\n",
    "lst        "
   ]
  },
  {
   "cell_type": "code",
   "execution_count": 5,
   "id": "1913d848",
   "metadata": {},
   "outputs": [
    {
     "name": "stdout",
     "output_type": "stream",
     "text": [
      "filtered_lst>>>>>>>>>>>>>>>>> []\n"
     ]
    },
    {
     "data": {
      "text/plain": [
       "[]"
      ]
     },
     "execution_count": 5,
     "metadata": {},
     "output_type": "execute_result"
    },
    {
     "name": "stdout",
     "output_type": "stream",
     "text": [
      "filtered_lst>>>>>>>>>>>>>>>>> []\n"
     ]
    },
    {
     "data": {
      "text/plain": [
       "[]"
      ]
     },
     "execution_count": 5,
     "metadata": {},
     "output_type": "execute_result"
    }
   ],
   "source": [
    "temp_lst = []\n",
    "for i in range(len(lst)):\n",
    "    for obj in lst[i]:\n",
    "        if type(obj.get('columns1')) != float:\n",
    "            temp_lst.append(obj)\n",
    "\n",
    "filtered_lst = []\n",
    "for i in range(len(temp_lst)):\n",
    "    if not temp_lst[i]['columns1'].startswith('Patient Name') and not temp_lst[i]['columns1'].startswith('Planholder') and not temp_lst[i]['columns1'].startswith('Line Submitted') and not temp_lst[i]['columns1'].startswith('No.'):\n",
    "        filtered_lst.append(temp_lst[i])\n",
    "print(\"filtered_lst>>>>>>>>>>>>>>>>>\",filtered_lst)\n",
    "filtered_lst"
   ]
  },
  {
   "cell_type": "code",
   "execution_count": 6,
   "id": "fbd11949",
   "metadata": {},
   "outputs": [
    {
     "name": "stdout",
     "output_type": "stream",
     "text": [
      "new_lst>>>>>>>>>>>>> []\n",
      "new_lst>>>>>>>>>>>>> []\n"
     ]
    },
    {
     "data": {
      "text/plain": [
       "[]"
      ]
     },
     "execution_count": 6,
     "metadata": {},
     "output_type": "execute_result"
    },
    {
     "data": {
      "text/plain": [
       "[]"
      ]
     },
     "execution_count": 6,
     "metadata": {},
     "output_type": "execute_result"
    }
   ],
   "source": [
    "new_lst = []\n",
    "new_dict = {}\n",
    "for obj in filtered_lst:\n",
    "    columns3 = obj['columns3'].split()\n",
    "\n",
    "    if 'columns6' in obj:\n",
    "        columns6 = str(obj['columns6']).split()\n",
    "        columns4 = obj['columns4'].split()\n",
    "        if len(columns6) == 3 and len(columns4) == 3:\n",
    "            new_dict = {\n",
    "                'SubmittedADACodesDescription': obj[\"columns1\"],\n",
    "                'AltCode': obj[\"columns2\"],\n",
    "                'ToothNo': obj[\"columns3\"],\n",
    "                'DateOfService': columns4[0],\n",
    "                'SubmittedCharge': columns4[1],\n",
    "                'ConsideredCharge': columns4[2],\n",
    "                'CoveredCharge': obj[\"columns5\"],\n",
    "                'DeductibleAmount': columns6[0],\n",
    "                'CoveragePercent': columns6[1],\n",
    "                'BenefitAmount': columns6[2]\n",
    "            }\n",
    "        elif len(columns6) == 2 and len(columns4) == 3:\n",
    "            new_dict = {\n",
    "                'SubmittedADACodesDescription': obj[\"columns1\"],\n",
    "                'AltCode': obj[\"columns2\"],\n",
    "                'ToothNo': obj[\"columns3\"],\n",
    "                'DateOfService': columns4[0],\n",
    "                'SubmittedCharge': columns4[1],\n",
    "                'ConsideredCharge': columns4[2],\n",
    "                'CoveredCharge': obj[\"columns5\"],\n",
    "                'DeductibleAmount': \"\",\n",
    "                'CoveragePercent': columns6[0],\n",
    "                'BenefitAmount': columns6[1]\n",
    "            }\n",
    "        elif len(columns6) == 1 and len(columns4) == 4:\n",
    "            new_dict = {\n",
    "                'SubmittedADACodesDescription': obj[\"columns1\"],\n",
    "                'AltCode': obj[\"columns2\"],\n",
    "                'ToothNo': obj[\"columns3\"],\n",
    "                'DateOfService': columns4[0],\n",
    "                'SubmittedCharge': columns4[1],\n",
    "                'ConsideredCharge': columns4[2],\n",
    "                'CoveredCharge': columns4[3],\n",
    "                'DeductibleAmount': \"\",\n",
    "                'CoveragePercent': obj[\"columns5\"],\n",
    "                'BenefitAmount': str(obj[\"columns6\"])\n",
    "            }\n",
    "    elif len(columns3) == 3:\n",
    "        # columns3 = obj['columns3'].split()\n",
    "        columns2 = obj['columns2'].split()\n",
    "        columns4 = obj['columns4'].split()\n",
    "        new_dict = {\n",
    "            'SubmittedADACodesDescription': obj[\"columns1\"],\n",
    "            'AltCode': \"\",\n",
    "            'ToothNo': columns2[0],\n",
    "            'DateOfService': columns2[1],\n",
    "            'SubmittedCharge': columns3[0],\n",
    "            'ConsideredCharge': columns3[1],\n",
    "            'CoveredCharge': columns3[2],\n",
    "            'DeductibleAmount': \"\",\n",
    "            'CoveragePercent': columns4[0],\n",
    "            'BenefitAmount': str(columns4[1])\n",
    "        }\n",
    "\n",
    "    else:\n",
    "        \n",
    "        columns3 = obj['columns3'].split()\n",
    "        columns4 = obj['columns4'].split()\n",
    "        new_dict = {\n",
    "            'SubmittedADACodesDescription': obj[\"columns1\"],\n",
    "            'AltCode': \"\",\n",
    "            'ToothNo': obj[\"columns2\"],\n",
    "            'DateOfService': columns3[0],\n",
    "            'SubmittedCharge': columns3[1],\n",
    "            'ConsideredCharge': columns3[2],\n",
    "            'CoveredCharge': columns3[3],\n",
    "            'DeductibleAmount': \"\",\n",
    "            'CoveragePercent': columns4[0],\n",
    "            'BenefitAmount': columns4[1]\n",
    "        }\n",
    "\n",
    "    if str(new_dict['AltCode']) == 'nan':\n",
    "        new_dict['AltCode'] = str(new_dict['AltCode']).replace('nan','')\n",
    "    if str(new_dict['ToothNo']) == 'nan':\n",
    "        new_dict['ToothNo'] = str(new_dict['ToothNo']).replace('nan','')\n",
    "    new_lst.append(new_dict)\n",
    "print(\"new_lst>>>>>>>>>>>>>\",new_lst)\n",
    "new_lst"
   ]
  },
  {
   "cell_type": "code",
   "execution_count": 7,
   "id": "43034d51",
   "metadata": {},
   "outputs": [],
   "source": [
    "# for i in new_lst:\n",
    "#     data['RcmEobClaimDetail'].append(i)\n",
    "\n",
    "# ADACodes = \"\"\n",
    "# Description = \"\"\n",
    "# for i in range(len(data['RcmEobClaimDetail'])):\n",
    "#     for key, values in data['RcmEobClaimDetail'][i].items():\n",
    "#         if key == \"SubmittedADACodesDescription\":\n",
    "#             cdtcodes_type_of_service = values\n",
    "#             ADACodes, Description = cdtcodes_type_of_service.split(\"/\",1)\n",
    "#     data['RcmEobClaimDetail'][i][\"ADACodes\"] = ADACodes\n",
    "#     data['RcmEobClaimDetail'][i][\"Description\"] = Description\n",
    "#     del data['RcmEobClaimDetail'][i][\"SubmittedADACodesDescription\"]\n",
    "\n",
    "# for obj in data['RcmEobClaimDetail']:\n",
    "#     ads_code = obj[\"ADACodes\"].split()\n",
    "#     if len(ads_code) == 2:\n",
    "#         obj[\"ADACodes\"] = ads_code[1]\n",
    "# print(\"data>>>>>>>>>>>>>>\",data)\n",
    "\n"
   ]
  },
  {
   "cell_type": "code",
   "execution_count": null,
   "id": "663d2baf",
   "metadata": {},
   "outputs": [],
   "source": []
  }
 ],
 "metadata": {
  "kernelspec": {
   "display_name": "Python 3 (ipykernel)",
   "language": "python",
   "name": "python3"
  },
  "language_info": {
   "codemirror_mode": {
    "name": "ipython",
    "version": 3
   },
   "file_extension": ".py",
   "mimetype": "text/x-python",
   "name": "python",
   "nbconvert_exporter": "python",
   "pygments_lexer": "ipython3",
   "version": "3.10.5"
  }
 },
 "nbformat": 4,
 "nbformat_minor": 5
}
